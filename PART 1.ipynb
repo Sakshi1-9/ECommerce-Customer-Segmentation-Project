{
 "cells": [
  {
   "cell_type": "code",
   "execution_count": 1,
   "id": "0b1b55f3-e0cd-4749-a3af-3129cd5db944",
   "metadata": {},
   "outputs": [],
   "source": [
    "import pandas as pd\n",
    "import matplotlib.pyplot as plt\n",
    "import seaborn as sns"
   ]
  },
  {
   "cell_type": "code",
   "execution_count": 2,
   "id": "65727260-db93-4c0e-be99-8bf2db0cbb26",
   "metadata": {},
   "outputs": [],
   "source": [
    "df = pd.read_csv('data.csv', encoding='unicode_escape')"
   ]
  },
  {
   "cell_type": "code",
   "execution_count": 3,
   "id": "cd55811f-498b-4487-ad1f-fbce0c415a50",
   "metadata": {},
   "outputs": [],
   "source": [
    "df1 = df.copy() #backup"
   ]
  },
  {
   "cell_type": "code",
   "execution_count": 4,
   "id": "f774b490-d51a-4c24-b9fb-f5559d6e48fc",
   "metadata": {
    "scrolled": true
   },
   "outputs": [
    {
     "data": {
      "text/html": [
       "<div>\n",
       "<style scoped>\n",
       "    .dataframe tbody tr th:only-of-type {\n",
       "        vertical-align: middle;\n",
       "    }\n",
       "\n",
       "    .dataframe tbody tr th {\n",
       "        vertical-align: top;\n",
       "    }\n",
       "\n",
       "    .dataframe thead th {\n",
       "        text-align: right;\n",
       "    }\n",
       "</style>\n",
       "<table border=\"1\" class=\"dataframe\">\n",
       "  <thead>\n",
       "    <tr style=\"text-align: right;\">\n",
       "      <th></th>\n",
       "      <th>InvoiceNo</th>\n",
       "      <th>StockCode</th>\n",
       "      <th>Description</th>\n",
       "      <th>Quantity</th>\n",
       "      <th>InvoiceDate</th>\n",
       "      <th>UnitPrice</th>\n",
       "      <th>CustomerID</th>\n",
       "      <th>Country</th>\n",
       "    </tr>\n",
       "  </thead>\n",
       "  <tbody>\n",
       "    <tr>\n",
       "      <th>0</th>\n",
       "      <td>536365</td>\n",
       "      <td>85123A</td>\n",
       "      <td>WHITE HANGING HEART T-LIGHT HOLDER</td>\n",
       "      <td>6</td>\n",
       "      <td>12/1/2010 8:26</td>\n",
       "      <td>2.55</td>\n",
       "      <td>17850.0</td>\n",
       "      <td>United Kingdom</td>\n",
       "    </tr>\n",
       "    <tr>\n",
       "      <th>1</th>\n",
       "      <td>536365</td>\n",
       "      <td>71053</td>\n",
       "      <td>WHITE METAL LANTERN</td>\n",
       "      <td>6</td>\n",
       "      <td>12/1/2010 8:26</td>\n",
       "      <td>3.39</td>\n",
       "      <td>17850.0</td>\n",
       "      <td>United Kingdom</td>\n",
       "    </tr>\n",
       "    <tr>\n",
       "      <th>2</th>\n",
       "      <td>536365</td>\n",
       "      <td>84406B</td>\n",
       "      <td>CREAM CUPID HEARTS COAT HANGER</td>\n",
       "      <td>8</td>\n",
       "      <td>12/1/2010 8:26</td>\n",
       "      <td>2.75</td>\n",
       "      <td>17850.0</td>\n",
       "      <td>United Kingdom</td>\n",
       "    </tr>\n",
       "    <tr>\n",
       "      <th>3</th>\n",
       "      <td>536365</td>\n",
       "      <td>84029G</td>\n",
       "      <td>KNITTED UNION FLAG HOT WATER BOTTLE</td>\n",
       "      <td>6</td>\n",
       "      <td>12/1/2010 8:26</td>\n",
       "      <td>3.39</td>\n",
       "      <td>17850.0</td>\n",
       "      <td>United Kingdom</td>\n",
       "    </tr>\n",
       "    <tr>\n",
       "      <th>4</th>\n",
       "      <td>536365</td>\n",
       "      <td>84029E</td>\n",
       "      <td>RED WOOLLY HOTTIE WHITE HEART.</td>\n",
       "      <td>6</td>\n",
       "      <td>12/1/2010 8:26</td>\n",
       "      <td>3.39</td>\n",
       "      <td>17850.0</td>\n",
       "      <td>United Kingdom</td>\n",
       "    </tr>\n",
       "  </tbody>\n",
       "</table>\n",
       "</div>"
      ],
      "text/plain": [
       "  InvoiceNo StockCode                          Description  Quantity  \\\n",
       "0    536365    85123A   WHITE HANGING HEART T-LIGHT HOLDER         6   \n",
       "1    536365     71053                  WHITE METAL LANTERN         6   \n",
       "2    536365    84406B       CREAM CUPID HEARTS COAT HANGER         8   \n",
       "3    536365    84029G  KNITTED UNION FLAG HOT WATER BOTTLE         6   \n",
       "4    536365    84029E       RED WOOLLY HOTTIE WHITE HEART.         6   \n",
       "\n",
       "      InvoiceDate  UnitPrice  CustomerID         Country  \n",
       "0  12/1/2010 8:26       2.55     17850.0  United Kingdom  \n",
       "1  12/1/2010 8:26       3.39     17850.0  United Kingdom  \n",
       "2  12/1/2010 8:26       2.75     17850.0  United Kingdom  \n",
       "3  12/1/2010 8:26       3.39     17850.0  United Kingdom  \n",
       "4  12/1/2010 8:26       3.39     17850.0  United Kingdom  "
      ]
     },
     "execution_count": 4,
     "metadata": {},
     "output_type": "execute_result"
    }
   ],
   "source": [
    "df.head(5)"
   ]
  },
  {
   "cell_type": "code",
   "execution_count": 5,
   "id": "27b4c43d-c07a-42fc-933b-593fc7af6076",
   "metadata": {},
   "outputs": [
    {
     "data": {
      "text/plain": [
       "(541909, 8)"
      ]
     },
     "execution_count": 5,
     "metadata": {},
     "output_type": "execute_result"
    }
   ],
   "source": [
    "df.shape"
   ]
  },
  {
   "cell_type": "code",
   "execution_count": 6,
   "id": "bab55e99-1ed7-4f6e-9523-8b09f59b2a1a",
   "metadata": {},
   "outputs": [
    {
     "data": {
      "text/plain": [
       "Index(['InvoiceNo', 'StockCode', 'Description', 'Quantity', 'InvoiceDate',\n",
       "       'UnitPrice', 'CustomerID', 'Country'],\n",
       "      dtype='object')"
      ]
     },
     "execution_count": 6,
     "metadata": {},
     "output_type": "execute_result"
    }
   ],
   "source": [
    "df.columns"
   ]
  },
  {
   "cell_type": "code",
   "execution_count": 7,
   "id": "fdcf46af-f193-43dc-aaaf-798019d412eb",
   "metadata": {},
   "outputs": [
    {
     "data": {
      "text/plain": [
       "InvoiceNo       object\n",
       "StockCode       object\n",
       "Description     object\n",
       "Quantity         int64\n",
       "InvoiceDate     object\n",
       "UnitPrice      float64\n",
       "CustomerID     float64\n",
       "Country         object\n",
       "dtype: object"
      ]
     },
     "execution_count": 7,
     "metadata": {},
     "output_type": "execute_result"
    }
   ],
   "source": [
    "df.dtypes"
   ]
  },
  {
   "cell_type": "code",
   "execution_count": 2,
   "id": "7f73fac3-a955-4515-b926-ea6e1c44ce7a",
   "metadata": {},
   "outputs": [],
   "source": [
    "#invoice no has columns one containing cancelled orders& regulars so creating an ordertype column,\n",
    "#invoicedate should be datetime format and also split up in separate Date column\n",
    "#date and time columns customerid should be int not float"
   ]
  },
  {
   "cell_type": "code",
   "execution_count": 1,
   "id": "08b489a6-0076-4358-9283-3bb803c5f9cc",
   "metadata": {},
   "outputs": [],
   "source": [
    "#checking non numeric stockcodes"
   ]
  },
  {
   "cell_type": "code",
   "execution_count": 9,
   "id": "7e2209af-8bc3-4f0c-aa8a-69ed75577b61",
   "metadata": {},
   "outputs": [
    {
     "data": {
      "text/html": [
       "<div>\n",
       "<style scoped>\n",
       "    .dataframe tbody tr th:only-of-type {\n",
       "        vertical-align: middle;\n",
       "    }\n",
       "\n",
       "    .dataframe tbody tr th {\n",
       "        vertical-align: top;\n",
       "    }\n",
       "\n",
       "    .dataframe thead th {\n",
       "        text-align: right;\n",
       "    }\n",
       "</style>\n",
       "<table border=\"1\" class=\"dataframe\">\n",
       "  <thead>\n",
       "    <tr style=\"text-align: right;\">\n",
       "      <th></th>\n",
       "      <th>InvoiceNo</th>\n",
       "      <th>StockCode</th>\n",
       "      <th>Description</th>\n",
       "      <th>Quantity</th>\n",
       "      <th>InvoiceDate</th>\n",
       "      <th>UnitPrice</th>\n",
       "      <th>CustomerID</th>\n",
       "      <th>Country</th>\n",
       "    </tr>\n",
       "  </thead>\n",
       "  <tbody>\n",
       "    <tr>\n",
       "      <th>0</th>\n",
       "      <td>536365</td>\n",
       "      <td>85123A</td>\n",
       "      <td>WHITE HANGING HEART T-LIGHT HOLDER</td>\n",
       "      <td>6</td>\n",
       "      <td>12/1/2010 8:26</td>\n",
       "      <td>2.55</td>\n",
       "      <td>17850.0</td>\n",
       "      <td>United Kingdom</td>\n",
       "    </tr>\n",
       "    <tr>\n",
       "      <th>1</th>\n",
       "      <td>536365</td>\n",
       "      <td>71053</td>\n",
       "      <td>WHITE METAL LANTERN</td>\n",
       "      <td>6</td>\n",
       "      <td>12/1/2010 8:26</td>\n",
       "      <td>3.39</td>\n",
       "      <td>17850.0</td>\n",
       "      <td>United Kingdom</td>\n",
       "    </tr>\n",
       "    <tr>\n",
       "      <th>2</th>\n",
       "      <td>536365</td>\n",
       "      <td>84406B</td>\n",
       "      <td>CREAM CUPID HEARTS COAT HANGER</td>\n",
       "      <td>8</td>\n",
       "      <td>12/1/2010 8:26</td>\n",
       "      <td>2.75</td>\n",
       "      <td>17850.0</td>\n",
       "      <td>United Kingdom</td>\n",
       "    </tr>\n",
       "    <tr>\n",
       "      <th>3</th>\n",
       "      <td>536365</td>\n",
       "      <td>84029G</td>\n",
       "      <td>KNITTED UNION FLAG HOT WATER BOTTLE</td>\n",
       "      <td>6</td>\n",
       "      <td>12/1/2010 8:26</td>\n",
       "      <td>3.39</td>\n",
       "      <td>17850.0</td>\n",
       "      <td>United Kingdom</td>\n",
       "    </tr>\n",
       "    <tr>\n",
       "      <th>4</th>\n",
       "      <td>536365</td>\n",
       "      <td>84029E</td>\n",
       "      <td>RED WOOLLY HOTTIE WHITE HEART.</td>\n",
       "      <td>6</td>\n",
       "      <td>12/1/2010 8:26</td>\n",
       "      <td>3.39</td>\n",
       "      <td>17850.0</td>\n",
       "      <td>United Kingdom</td>\n",
       "    </tr>\n",
       "  </tbody>\n",
       "</table>\n",
       "</div>"
      ],
      "text/plain": [
       "  InvoiceNo StockCode                          Description  Quantity  \\\n",
       "0    536365    85123A   WHITE HANGING HEART T-LIGHT HOLDER         6   \n",
       "1    536365     71053                  WHITE METAL LANTERN         6   \n",
       "2    536365    84406B       CREAM CUPID HEARTS COAT HANGER         8   \n",
       "3    536365    84029G  KNITTED UNION FLAG HOT WATER BOTTLE         6   \n",
       "4    536365    84029E       RED WOOLLY HOTTIE WHITE HEART.         6   \n",
       "\n",
       "      InvoiceDate  UnitPrice  CustomerID         Country  \n",
       "0  12/1/2010 8:26       2.55     17850.0  United Kingdom  \n",
       "1  12/1/2010 8:26       3.39     17850.0  United Kingdom  \n",
       "2  12/1/2010 8:26       2.75     17850.0  United Kingdom  \n",
       "3  12/1/2010 8:26       3.39     17850.0  United Kingdom  \n",
       "4  12/1/2010 8:26       3.39     17850.0  United Kingdom  "
      ]
     },
     "execution_count": 9,
     "metadata": {},
     "output_type": "execute_result"
    }
   ],
   "source": [
    "df.head()"
   ]
  },
  {
   "cell_type": "code",
   "execution_count": 10,
   "id": "53da6a0c-aa22-4a69-a982-f4b4a06fa1c3",
   "metadata": {},
   "outputs": [
    {
     "data": {
      "text/html": [
       "<div>\n",
       "<style scoped>\n",
       "    .dataframe tbody tr th:only-of-type {\n",
       "        vertical-align: middle;\n",
       "    }\n",
       "\n",
       "    .dataframe tbody tr th {\n",
       "        vertical-align: top;\n",
       "    }\n",
       "\n",
       "    .dataframe thead th {\n",
       "        text-align: right;\n",
       "    }\n",
       "</style>\n",
       "<table border=\"1\" class=\"dataframe\">\n",
       "  <thead>\n",
       "    <tr style=\"text-align: right;\">\n",
       "      <th></th>\n",
       "      <th>InvoiceNo</th>\n",
       "      <th>StockCode</th>\n",
       "      <th>Description</th>\n",
       "      <th>Quantity</th>\n",
       "      <th>InvoiceDate</th>\n",
       "      <th>UnitPrice</th>\n",
       "      <th>CustomerID</th>\n",
       "      <th>Country</th>\n",
       "    </tr>\n",
       "  </thead>\n",
       "  <tbody>\n",
       "    <tr>\n",
       "      <th>45</th>\n",
       "      <td>536370</td>\n",
       "      <td>POST</td>\n",
       "      <td>POSTAGE</td>\n",
       "      <td>3</td>\n",
       "      <td>12/1/2010 8:45</td>\n",
       "      <td>18.00</td>\n",
       "      <td>12583.0</td>\n",
       "      <td>France</td>\n",
       "    </tr>\n",
       "    <tr>\n",
       "      <th>141</th>\n",
       "      <td>C536379</td>\n",
       "      <td>D</td>\n",
       "      <td>Discount</td>\n",
       "      <td>-1</td>\n",
       "      <td>12/1/2010 9:41</td>\n",
       "      <td>27.50</td>\n",
       "      <td>14527.0</td>\n",
       "      <td>United Kingdom</td>\n",
       "    </tr>\n",
       "    <tr>\n",
       "      <th>386</th>\n",
       "      <td>536403</td>\n",
       "      <td>POST</td>\n",
       "      <td>POSTAGE</td>\n",
       "      <td>1</td>\n",
       "      <td>12/1/2010 11:27</td>\n",
       "      <td>15.00</td>\n",
       "      <td>12791.0</td>\n",
       "      <td>Netherlands</td>\n",
       "    </tr>\n",
       "    <tr>\n",
       "      <th>1123</th>\n",
       "      <td>536527</td>\n",
       "      <td>POST</td>\n",
       "      <td>POSTAGE</td>\n",
       "      <td>1</td>\n",
       "      <td>12/1/2010 13:04</td>\n",
       "      <td>18.00</td>\n",
       "      <td>12662.0</td>\n",
       "      <td>Germany</td>\n",
       "    </tr>\n",
       "    <tr>\n",
       "      <th>1814</th>\n",
       "      <td>536544</td>\n",
       "      <td>DOT</td>\n",
       "      <td>DOTCOM POSTAGE</td>\n",
       "      <td>1</td>\n",
       "      <td>12/1/2010 14:32</td>\n",
       "      <td>569.77</td>\n",
       "      <td>NaN</td>\n",
       "      <td>United Kingdom</td>\n",
       "    </tr>\n",
       "  </tbody>\n",
       "</table>\n",
       "</div>"
      ],
      "text/plain": [
       "     InvoiceNo StockCode     Description  Quantity      InvoiceDate  \\\n",
       "45      536370      POST         POSTAGE         3   12/1/2010 8:45   \n",
       "141    C536379         D        Discount        -1   12/1/2010 9:41   \n",
       "386     536403      POST         POSTAGE         1  12/1/2010 11:27   \n",
       "1123    536527      POST         POSTAGE         1  12/1/2010 13:04   \n",
       "1814    536544       DOT  DOTCOM POSTAGE         1  12/1/2010 14:32   \n",
       "\n",
       "      UnitPrice  CustomerID         Country  \n",
       "45        18.00     12583.0          France  \n",
       "141       27.50     14527.0  United Kingdom  \n",
       "386       15.00     12791.0     Netherlands  \n",
       "1123      18.00     12662.0         Germany  \n",
       "1814     569.77         NaN  United Kingdom  "
      ]
     },
     "execution_count": 10,
     "metadata": {},
     "output_type": "execute_result"
    }
   ],
   "source": [
    "b = df[df['StockCode'].str.match(r'^[A-Za-z]+$')]\n",
    "b.head()"
   ]
  },
  {
   "cell_type": "code",
   "execution_count": 11,
   "id": "9b8e55ee-e9f5-4e3b-9e0e-0e0ccad45785",
   "metadata": {},
   "outputs": [
    {
     "data": {
      "text/plain": [
       "array(['POST', 'D', 'DOT', 'M', 'S', 'AMAZONFEE', 'm', 'DCGSSBOY',\n",
       "       'DCGSSGIRL', 'PADS', 'B', 'CRUK'], dtype=object)"
      ]
     },
     "execution_count": 11,
     "metadata": {},
     "output_type": "execute_result"
    }
   ],
   "source": [
    "c = df[df['StockCode'].str.match(r'^[A-Za-z]+$')]['StockCode'].unique()\n",
    "c"
   ]
  },
  {
   "cell_type": "code",
   "execution_count": 12,
   "id": "5a743fc7-f659-471a-90db-4bd80e27e50c",
   "metadata": {},
   "outputs": [
    {
     "data": {
      "text/plain": [
       "2759"
      ]
     },
     "execution_count": 12,
     "metadata": {},
     "output_type": "execute_result"
    }
   ],
   "source": [
    "len(b)"
   ]
  },
  {
   "cell_type": "code",
   "execution_count": 13,
   "id": "635382c6-7298-4921-8a95-ac90ca7e16ce",
   "metadata": {},
   "outputs": [
    {
     "data": {
      "text/html": [
       "<div>\n",
       "<style scoped>\n",
       "    .dataframe tbody tr th:only-of-type {\n",
       "        vertical-align: middle;\n",
       "    }\n",
       "\n",
       "    .dataframe tbody tr th {\n",
       "        vertical-align: top;\n",
       "    }\n",
       "\n",
       "    .dataframe thead th {\n",
       "        text-align: right;\n",
       "    }\n",
       "</style>\n",
       "<table border=\"1\" class=\"dataframe\">\n",
       "  <thead>\n",
       "    <tr style=\"text-align: right;\">\n",
       "      <th></th>\n",
       "      <th>StockCode</th>\n",
       "      <th>InvoiceNo</th>\n",
       "      <th>Description</th>\n",
       "      <th>Quantity</th>\n",
       "      <th>InvoiceDate</th>\n",
       "      <th>UnitPrice</th>\n",
       "      <th>CustomerID</th>\n",
       "      <th>Country</th>\n",
       "    </tr>\n",
       "  </thead>\n",
       "  <tbody>\n",
       "    <tr>\n",
       "      <th>0</th>\n",
       "      <td>AMAZONFEE</td>\n",
       "      <td>C537600</td>\n",
       "      <td>AMAZON FEE</td>\n",
       "      <td>-1</td>\n",
       "      <td>12/7/2010 12:41</td>\n",
       "      <td>1.000</td>\n",
       "      <td>NaN</td>\n",
       "      <td>United Kingdom</td>\n",
       "    </tr>\n",
       "    <tr>\n",
       "      <th>1</th>\n",
       "      <td>B</td>\n",
       "      <td>A563185</td>\n",
       "      <td>Adjust bad debt</td>\n",
       "      <td>1</td>\n",
       "      <td>8/12/2011 14:50</td>\n",
       "      <td>11062.060</td>\n",
       "      <td>NaN</td>\n",
       "      <td>United Kingdom</td>\n",
       "    </tr>\n",
       "    <tr>\n",
       "      <th>2</th>\n",
       "      <td>CRUK</td>\n",
       "      <td>C564763</td>\n",
       "      <td>CRUK Commission</td>\n",
       "      <td>-1</td>\n",
       "      <td>8/30/2011 10:49</td>\n",
       "      <td>1.600</td>\n",
       "      <td>14096.0</td>\n",
       "      <td>United Kingdom</td>\n",
       "    </tr>\n",
       "    <tr>\n",
       "      <th>3</th>\n",
       "      <td>D</td>\n",
       "      <td>C536379</td>\n",
       "      <td>Discount</td>\n",
       "      <td>-1</td>\n",
       "      <td>12/1/2010 9:41</td>\n",
       "      <td>27.500</td>\n",
       "      <td>14527.0</td>\n",
       "      <td>United Kingdom</td>\n",
       "    </tr>\n",
       "    <tr>\n",
       "      <th>4</th>\n",
       "      <td>DCGSSBOY</td>\n",
       "      <td>543358</td>\n",
       "      <td>BOYS PARTY BAG</td>\n",
       "      <td>1</td>\n",
       "      <td>2/7/2011 14:04</td>\n",
       "      <td>3.290</td>\n",
       "      <td>NaN</td>\n",
       "      <td>United Kingdom</td>\n",
       "    </tr>\n",
       "    <tr>\n",
       "      <th>5</th>\n",
       "      <td>DCGSSGIRL</td>\n",
       "      <td>543358</td>\n",
       "      <td>GIRLS PARTY BAG</td>\n",
       "      <td>3</td>\n",
       "      <td>2/7/2011 14:04</td>\n",
       "      <td>3.290</td>\n",
       "      <td>NaN</td>\n",
       "      <td>United Kingdom</td>\n",
       "    </tr>\n",
       "    <tr>\n",
       "      <th>6</th>\n",
       "      <td>DOT</td>\n",
       "      <td>536544</td>\n",
       "      <td>DOTCOM POSTAGE</td>\n",
       "      <td>1</td>\n",
       "      <td>12/1/2010 14:32</td>\n",
       "      <td>569.770</td>\n",
       "      <td>14096.0</td>\n",
       "      <td>United Kingdom</td>\n",
       "    </tr>\n",
       "    <tr>\n",
       "      <th>7</th>\n",
       "      <td>M</td>\n",
       "      <td>536569</td>\n",
       "      <td>Manual</td>\n",
       "      <td>1</td>\n",
       "      <td>12/1/2010 15:35</td>\n",
       "      <td>1.250</td>\n",
       "      <td>16274.0</td>\n",
       "      <td>United Kingdom</td>\n",
       "    </tr>\n",
       "    <tr>\n",
       "      <th>8</th>\n",
       "      <td>PADS</td>\n",
       "      <td>550193</td>\n",
       "      <td>PADS TO MATCH ALL CUSHIONS</td>\n",
       "      <td>1</td>\n",
       "      <td>4/15/2011 9:27</td>\n",
       "      <td>0.001</td>\n",
       "      <td>13952.0</td>\n",
       "      <td>United Kingdom</td>\n",
       "    </tr>\n",
       "    <tr>\n",
       "      <th>9</th>\n",
       "      <td>POST</td>\n",
       "      <td>536370</td>\n",
       "      <td>POSTAGE</td>\n",
       "      <td>3</td>\n",
       "      <td>12/1/2010 8:45</td>\n",
       "      <td>18.000</td>\n",
       "      <td>12583.0</td>\n",
       "      <td>France</td>\n",
       "    </tr>\n",
       "    <tr>\n",
       "      <th>10</th>\n",
       "      <td>S</td>\n",
       "      <td>C537581</td>\n",
       "      <td>SAMPLES</td>\n",
       "      <td>-1</td>\n",
       "      <td>12/7/2010 12:03</td>\n",
       "      <td>12.950</td>\n",
       "      <td>NaN</td>\n",
       "      <td>United Kingdom</td>\n",
       "    </tr>\n",
       "    <tr>\n",
       "      <th>11</th>\n",
       "      <td>m</td>\n",
       "      <td>539736</td>\n",
       "      <td>Manual</td>\n",
       "      <td>1</td>\n",
       "      <td>12/21/2010 15:18</td>\n",
       "      <td>2.550</td>\n",
       "      <td>NaN</td>\n",
       "      <td>United Kingdom</td>\n",
       "    </tr>\n",
       "  </tbody>\n",
       "</table>\n",
       "</div>"
      ],
      "text/plain": [
       "    StockCode InvoiceNo                 Description  Quantity  \\\n",
       "0   AMAZONFEE   C537600                  AMAZON FEE        -1   \n",
       "1           B   A563185             Adjust bad debt         1   \n",
       "2        CRUK   C564763             CRUK Commission        -1   \n",
       "3           D   C536379                    Discount        -1   \n",
       "4    DCGSSBOY    543358              BOYS PARTY BAG         1   \n",
       "5   DCGSSGIRL    543358             GIRLS PARTY BAG         3   \n",
       "6         DOT    536544              DOTCOM POSTAGE         1   \n",
       "7           M    536569                      Manual         1   \n",
       "8        PADS    550193  PADS TO MATCH ALL CUSHIONS         1   \n",
       "9        POST    536370                     POSTAGE         3   \n",
       "10          S   C537581                     SAMPLES        -1   \n",
       "11          m    539736                      Manual         1   \n",
       "\n",
       "         InvoiceDate  UnitPrice  CustomerID         Country  \n",
       "0    12/7/2010 12:41      1.000         NaN  United Kingdom  \n",
       "1    8/12/2011 14:50  11062.060         NaN  United Kingdom  \n",
       "2    8/30/2011 10:49      1.600     14096.0  United Kingdom  \n",
       "3     12/1/2010 9:41     27.500     14527.0  United Kingdom  \n",
       "4     2/7/2011 14:04      3.290         NaN  United Kingdom  \n",
       "5     2/7/2011 14:04      3.290         NaN  United Kingdom  \n",
       "6    12/1/2010 14:32    569.770     14096.0  United Kingdom  \n",
       "7    12/1/2010 15:35      1.250     16274.0  United Kingdom  \n",
       "8     4/15/2011 9:27      0.001     13952.0  United Kingdom  \n",
       "9     12/1/2010 8:45     18.000     12583.0          France  \n",
       "10   12/7/2010 12:03     12.950         NaN  United Kingdom  \n",
       "11  12/21/2010 15:18      2.550         NaN  United Kingdom  "
      ]
     },
     "execution_count": 13,
     "metadata": {},
     "output_type": "execute_result"
    }
   ],
   "source": [
    "df[df['StockCode'].isin(c)].groupby('StockCode').first().reset_index()"
   ]
  },
  {
   "cell_type": "code",
   "execution_count": 14,
   "id": "7d635f61-d847-4804-ba32-420936bb0438",
   "metadata": {},
   "outputs": [
    {
     "data": {
      "text/plain": [
       "0.0022143939296081073"
      ]
     },
     "execution_count": 14,
     "metadata": {},
     "output_type": "execute_result"
    }
   ],
   "source": [
    "percentage= (len(c)/len(df))*100\n",
    "percentage"
   ]
  },
  {
   "cell_type": "code",
   "execution_count": 15,
   "id": "22c83584-194b-4831-a1c1-7a9c147f9b2f",
   "metadata": {},
   "outputs": [
    {
     "data": {
      "text/html": [
       "<div>\n",
       "<style scoped>\n",
       "    .dataframe tbody tr th:only-of-type {\n",
       "        vertical-align: middle;\n",
       "    }\n",
       "\n",
       "    .dataframe tbody tr th {\n",
       "        vertical-align: top;\n",
       "    }\n",
       "\n",
       "    .dataframe thead th {\n",
       "        text-align: right;\n",
       "    }\n",
       "</style>\n",
       "<table border=\"1\" class=\"dataframe\">\n",
       "  <thead>\n",
       "    <tr style=\"text-align: right;\">\n",
       "      <th></th>\n",
       "      <th>InvoiceNo</th>\n",
       "      <th>StockCode</th>\n",
       "      <th>Description</th>\n",
       "      <th>Quantity</th>\n",
       "      <th>InvoiceDate</th>\n",
       "      <th>UnitPrice</th>\n",
       "      <th>CustomerID</th>\n",
       "      <th>Country</th>\n",
       "    </tr>\n",
       "  </thead>\n",
       "  <tbody>\n",
       "    <tr>\n",
       "      <th>0</th>\n",
       "      <td>536365</td>\n",
       "      <td>85123A</td>\n",
       "      <td>WHITE HANGING HEART T-LIGHT HOLDER</td>\n",
       "      <td>6</td>\n",
       "      <td>12/1/2010 8:26</td>\n",
       "      <td>2.55</td>\n",
       "      <td>17850.0</td>\n",
       "      <td>United Kingdom</td>\n",
       "    </tr>\n",
       "    <tr>\n",
       "      <th>1</th>\n",
       "      <td>536365</td>\n",
       "      <td>71053</td>\n",
       "      <td>WHITE METAL LANTERN</td>\n",
       "      <td>6</td>\n",
       "      <td>12/1/2010 8:26</td>\n",
       "      <td>3.39</td>\n",
       "      <td>17850.0</td>\n",
       "      <td>United Kingdom</td>\n",
       "    </tr>\n",
       "    <tr>\n",
       "      <th>2</th>\n",
       "      <td>536365</td>\n",
       "      <td>84406B</td>\n",
       "      <td>CREAM CUPID HEARTS COAT HANGER</td>\n",
       "      <td>8</td>\n",
       "      <td>12/1/2010 8:26</td>\n",
       "      <td>2.75</td>\n",
       "      <td>17850.0</td>\n",
       "      <td>United Kingdom</td>\n",
       "    </tr>\n",
       "    <tr>\n",
       "      <th>3</th>\n",
       "      <td>536365</td>\n",
       "      <td>84029G</td>\n",
       "      <td>KNITTED UNION FLAG HOT WATER BOTTLE</td>\n",
       "      <td>6</td>\n",
       "      <td>12/1/2010 8:26</td>\n",
       "      <td>3.39</td>\n",
       "      <td>17850.0</td>\n",
       "      <td>United Kingdom</td>\n",
       "    </tr>\n",
       "    <tr>\n",
       "      <th>4</th>\n",
       "      <td>536365</td>\n",
       "      <td>84029E</td>\n",
       "      <td>RED WOOLLY HOTTIE WHITE HEART.</td>\n",
       "      <td>6</td>\n",
       "      <td>12/1/2010 8:26</td>\n",
       "      <td>3.39</td>\n",
       "      <td>17850.0</td>\n",
       "      <td>United Kingdom</td>\n",
       "    </tr>\n",
       "  </tbody>\n",
       "</table>\n",
       "</div>"
      ],
      "text/plain": [
       "  InvoiceNo StockCode                          Description  Quantity  \\\n",
       "0    536365    85123A   WHITE HANGING HEART T-LIGHT HOLDER         6   \n",
       "1    536365     71053                  WHITE METAL LANTERN         6   \n",
       "2    536365    84406B       CREAM CUPID HEARTS COAT HANGER         8   \n",
       "3    536365    84029G  KNITTED UNION FLAG HOT WATER BOTTLE         6   \n",
       "4    536365    84029E       RED WOOLLY HOTTIE WHITE HEART.         6   \n",
       "\n",
       "      InvoiceDate  UnitPrice  CustomerID         Country  \n",
       "0  12/1/2010 8:26       2.55     17850.0  United Kingdom  \n",
       "1  12/1/2010 8:26       3.39     17850.0  United Kingdom  \n",
       "2  12/1/2010 8:26       2.75     17850.0  United Kingdom  \n",
       "3  12/1/2010 8:26       3.39     17850.0  United Kingdom  \n",
       "4  12/1/2010 8:26       3.39     17850.0  United Kingdom  "
      ]
     },
     "execution_count": 15,
     "metadata": {},
     "output_type": "execute_result"
    }
   ],
   "source": [
    "remove_stockcodes = [\"AMAZONFEE\", \"B\", \"CRUK\", \"D\", \"DOT\", \"POST\", \"M\", \"m\", \"S\"]\n",
    "\n",
    "df = df[~df[\"StockCode\"].isin(remove_stockcodes)]\n",
    "\n",
    "df.head()"
   ]
  },
  {
   "cell_type": "code",
   "execution_count": 16,
   "id": "2001507a-85c4-4c49-aba0-774af0ceb066",
   "metadata": {},
   "outputs": [
    {
     "data": {
      "text/plain": [
       "(539178, 8)"
      ]
     },
     "execution_count": 16,
     "metadata": {},
     "output_type": "execute_result"
    }
   ],
   "source": [
    "df.shape"
   ]
  },
  {
   "cell_type": "code",
   "execution_count": 17,
   "id": "e55a946d-30f2-49ac-b93b-773878256666",
   "metadata": {},
   "outputs": [
    {
     "data": {
      "text/html": [
       "<div>\n",
       "<style scoped>\n",
       "    .dataframe tbody tr th:only-of-type {\n",
       "        vertical-align: middle;\n",
       "    }\n",
       "\n",
       "    .dataframe tbody tr th {\n",
       "        vertical-align: top;\n",
       "    }\n",
       "\n",
       "    .dataframe thead th {\n",
       "        text-align: right;\n",
       "    }\n",
       "</style>\n",
       "<table border=\"1\" class=\"dataframe\">\n",
       "  <thead>\n",
       "    <tr style=\"text-align: right;\">\n",
       "      <th></th>\n",
       "      <th>InvoiceNo</th>\n",
       "      <th>StockCode</th>\n",
       "      <th>Description</th>\n",
       "      <th>Quantity</th>\n",
       "      <th>InvoiceDate</th>\n",
       "      <th>UnitPrice</th>\n",
       "      <th>CustomerID</th>\n",
       "      <th>Country</th>\n",
       "    </tr>\n",
       "  </thead>\n",
       "  <tbody>\n",
       "    <tr>\n",
       "      <th>45</th>\n",
       "      <td>536370</td>\n",
       "      <td>POST</td>\n",
       "      <td>POSTAGE</td>\n",
       "      <td>3</td>\n",
       "      <td>12/1/2010 8:45</td>\n",
       "      <td>18.00</td>\n",
       "      <td>12583.0</td>\n",
       "      <td>France</td>\n",
       "    </tr>\n",
       "    <tr>\n",
       "      <th>141</th>\n",
       "      <td>C536379</td>\n",
       "      <td>D</td>\n",
       "      <td>Discount</td>\n",
       "      <td>-1</td>\n",
       "      <td>12/1/2010 9:41</td>\n",
       "      <td>27.50</td>\n",
       "      <td>14527.0</td>\n",
       "      <td>United Kingdom</td>\n",
       "    </tr>\n",
       "    <tr>\n",
       "      <th>386</th>\n",
       "      <td>536403</td>\n",
       "      <td>POST</td>\n",
       "      <td>POSTAGE</td>\n",
       "      <td>1</td>\n",
       "      <td>12/1/2010 11:27</td>\n",
       "      <td>15.00</td>\n",
       "      <td>12791.0</td>\n",
       "      <td>Netherlands</td>\n",
       "    </tr>\n",
       "    <tr>\n",
       "      <th>1123</th>\n",
       "      <td>536527</td>\n",
       "      <td>POST</td>\n",
       "      <td>POSTAGE</td>\n",
       "      <td>1</td>\n",
       "      <td>12/1/2010 13:04</td>\n",
       "      <td>18.00</td>\n",
       "      <td>12662.0</td>\n",
       "      <td>Germany</td>\n",
       "    </tr>\n",
       "    <tr>\n",
       "      <th>1814</th>\n",
       "      <td>536544</td>\n",
       "      <td>DOT</td>\n",
       "      <td>DOTCOM POSTAGE</td>\n",
       "      <td>1</td>\n",
       "      <td>12/1/2010 14:32</td>\n",
       "      <td>569.77</td>\n",
       "      <td>NaN</td>\n",
       "      <td>United Kingdom</td>\n",
       "    </tr>\n",
       "  </tbody>\n",
       "</table>\n",
       "</div>"
      ],
      "text/plain": [
       "     InvoiceNo StockCode     Description  Quantity      InvoiceDate  \\\n",
       "45      536370      POST         POSTAGE         3   12/1/2010 8:45   \n",
       "141    C536379         D        Discount        -1   12/1/2010 9:41   \n",
       "386     536403      POST         POSTAGE         1  12/1/2010 11:27   \n",
       "1123    536527      POST         POSTAGE         1  12/1/2010 13:04   \n",
       "1814    536544       DOT  DOTCOM POSTAGE         1  12/1/2010 14:32   \n",
       "\n",
       "      UnitPrice  CustomerID         Country  \n",
       "45        18.00     12583.0          France  \n",
       "141       27.50     14527.0  United Kingdom  \n",
       "386       15.00     12791.0     Netherlands  \n",
       "1123      18.00     12662.0         Germany  \n",
       "1814     569.77         NaN  United Kingdom  "
      ]
     },
     "execution_count": 17,
     "metadata": {},
     "output_type": "execute_result"
    }
   ],
   "source": [
    "b.head()"
   ]
  },
  {
   "cell_type": "code",
   "execution_count": null,
   "id": "30178d5e-d25c-490c-ba59-a7fbcf3dffa8",
   "metadata": {},
   "outputs": [],
   "source": []
  },
  {
   "cell_type": "code",
   "execution_count": 18,
   "id": "cb8d8068-fd4d-4f40-837b-05a1d61bfa4d",
   "metadata": {},
   "outputs": [],
   "source": [
    "df['OrderType'] = df['InvoiceNo'].apply(lambda x: 'Cancelled' if str(x).startswith('C') else 'Regular')"
   ]
  },
  {
   "cell_type": "code",
   "execution_count": 19,
   "id": "faee843b-543e-48f2-87cb-75ef9cfda79a",
   "metadata": {},
   "outputs": [
    {
     "data": {
      "text/html": [
       "<div>\n",
       "<style scoped>\n",
       "    .dataframe tbody tr th:only-of-type {\n",
       "        vertical-align: middle;\n",
       "    }\n",
       "\n",
       "    .dataframe tbody tr th {\n",
       "        vertical-align: top;\n",
       "    }\n",
       "\n",
       "    .dataframe thead th {\n",
       "        text-align: right;\n",
       "    }\n",
       "</style>\n",
       "<table border=\"1\" class=\"dataframe\">\n",
       "  <thead>\n",
       "    <tr style=\"text-align: right;\">\n",
       "      <th></th>\n",
       "      <th>InvoiceNo</th>\n",
       "      <th>StockCode</th>\n",
       "      <th>Description</th>\n",
       "      <th>Quantity</th>\n",
       "      <th>InvoiceDate</th>\n",
       "      <th>UnitPrice</th>\n",
       "      <th>CustomerID</th>\n",
       "      <th>Country</th>\n",
       "      <th>OrderType</th>\n",
       "    </tr>\n",
       "  </thead>\n",
       "  <tbody>\n",
       "    <tr>\n",
       "      <th>0</th>\n",
       "      <td>536365</td>\n",
       "      <td>85123A</td>\n",
       "      <td>WHITE HANGING HEART T-LIGHT HOLDER</td>\n",
       "      <td>6</td>\n",
       "      <td>12/1/2010 8:26</td>\n",
       "      <td>2.55</td>\n",
       "      <td>17850.0</td>\n",
       "      <td>United Kingdom</td>\n",
       "      <td>Regular</td>\n",
       "    </tr>\n",
       "    <tr>\n",
       "      <th>1</th>\n",
       "      <td>536365</td>\n",
       "      <td>71053</td>\n",
       "      <td>WHITE METAL LANTERN</td>\n",
       "      <td>6</td>\n",
       "      <td>12/1/2010 8:26</td>\n",
       "      <td>3.39</td>\n",
       "      <td>17850.0</td>\n",
       "      <td>United Kingdom</td>\n",
       "      <td>Regular</td>\n",
       "    </tr>\n",
       "    <tr>\n",
       "      <th>2</th>\n",
       "      <td>536365</td>\n",
       "      <td>84406B</td>\n",
       "      <td>CREAM CUPID HEARTS COAT HANGER</td>\n",
       "      <td>8</td>\n",
       "      <td>12/1/2010 8:26</td>\n",
       "      <td>2.75</td>\n",
       "      <td>17850.0</td>\n",
       "      <td>United Kingdom</td>\n",
       "      <td>Regular</td>\n",
       "    </tr>\n",
       "    <tr>\n",
       "      <th>3</th>\n",
       "      <td>536365</td>\n",
       "      <td>84029G</td>\n",
       "      <td>KNITTED UNION FLAG HOT WATER BOTTLE</td>\n",
       "      <td>6</td>\n",
       "      <td>12/1/2010 8:26</td>\n",
       "      <td>3.39</td>\n",
       "      <td>17850.0</td>\n",
       "      <td>United Kingdom</td>\n",
       "      <td>Regular</td>\n",
       "    </tr>\n",
       "    <tr>\n",
       "      <th>4</th>\n",
       "      <td>536365</td>\n",
       "      <td>84029E</td>\n",
       "      <td>RED WOOLLY HOTTIE WHITE HEART.</td>\n",
       "      <td>6</td>\n",
       "      <td>12/1/2010 8:26</td>\n",
       "      <td>3.39</td>\n",
       "      <td>17850.0</td>\n",
       "      <td>United Kingdom</td>\n",
       "      <td>Regular</td>\n",
       "    </tr>\n",
       "  </tbody>\n",
       "</table>\n",
       "</div>"
      ],
      "text/plain": [
       "  InvoiceNo StockCode                          Description  Quantity  \\\n",
       "0    536365    85123A   WHITE HANGING HEART T-LIGHT HOLDER         6   \n",
       "1    536365     71053                  WHITE METAL LANTERN         6   \n",
       "2    536365    84406B       CREAM CUPID HEARTS COAT HANGER         8   \n",
       "3    536365    84029G  KNITTED UNION FLAG HOT WATER BOTTLE         6   \n",
       "4    536365    84029E       RED WOOLLY HOTTIE WHITE HEART.         6   \n",
       "\n",
       "      InvoiceDate  UnitPrice  CustomerID         Country OrderType  \n",
       "0  12/1/2010 8:26       2.55     17850.0  United Kingdom   Regular  \n",
       "1  12/1/2010 8:26       3.39     17850.0  United Kingdom   Regular  \n",
       "2  12/1/2010 8:26       2.75     17850.0  United Kingdom   Regular  \n",
       "3  12/1/2010 8:26       3.39     17850.0  United Kingdom   Regular  \n",
       "4  12/1/2010 8:26       3.39     17850.0  United Kingdom   Regular  "
      ]
     },
     "execution_count": 19,
     "metadata": {},
     "output_type": "execute_result"
    }
   ],
   "source": [
    "df.head(5)"
   ]
  },
  {
   "cell_type": "code",
   "execution_count": 20,
   "id": "12c88c15-f99d-4d1f-812c-46da989fcebb",
   "metadata": {},
   "outputs": [
    {
     "data": {
      "text/html": [
       "<div>\n",
       "<style scoped>\n",
       "    .dataframe tbody tr th:only-of-type {\n",
       "        vertical-align: middle;\n",
       "    }\n",
       "\n",
       "    .dataframe tbody tr th {\n",
       "        vertical-align: top;\n",
       "    }\n",
       "\n",
       "    .dataframe thead th {\n",
       "        text-align: right;\n",
       "    }\n",
       "</style>\n",
       "<table border=\"1\" class=\"dataframe\">\n",
       "  <thead>\n",
       "    <tr style=\"text-align: right;\">\n",
       "      <th></th>\n",
       "      <th>InvoiceNo</th>\n",
       "      <th>StockCode</th>\n",
       "      <th>Description</th>\n",
       "      <th>Quantity</th>\n",
       "      <th>InvoiceDate</th>\n",
       "      <th>UnitPrice</th>\n",
       "      <th>CustomerID</th>\n",
       "      <th>Country</th>\n",
       "      <th>OrderType</th>\n",
       "    </tr>\n",
       "  </thead>\n",
       "  <tbody>\n",
       "    <tr>\n",
       "      <th>0</th>\n",
       "      <td>536365</td>\n",
       "      <td>85123A</td>\n",
       "      <td>WHITE HANGING HEART T-LIGHT HOLDER</td>\n",
       "      <td>6</td>\n",
       "      <td>12/1/2010 8:26</td>\n",
       "      <td>2.55</td>\n",
       "      <td>17850.0</td>\n",
       "      <td>United Kingdom</td>\n",
       "      <td>Regular</td>\n",
       "    </tr>\n",
       "    <tr>\n",
       "      <th>1</th>\n",
       "      <td>536365</td>\n",
       "      <td>71053</td>\n",
       "      <td>WHITE METAL LANTERN</td>\n",
       "      <td>6</td>\n",
       "      <td>12/1/2010 8:26</td>\n",
       "      <td>3.39</td>\n",
       "      <td>17850.0</td>\n",
       "      <td>United Kingdom</td>\n",
       "      <td>Regular</td>\n",
       "    </tr>\n",
       "    <tr>\n",
       "      <th>2</th>\n",
       "      <td>536365</td>\n",
       "      <td>84406B</td>\n",
       "      <td>CREAM CUPID HEARTS COAT HANGER</td>\n",
       "      <td>8</td>\n",
       "      <td>12/1/2010 8:26</td>\n",
       "      <td>2.75</td>\n",
       "      <td>17850.0</td>\n",
       "      <td>United Kingdom</td>\n",
       "      <td>Regular</td>\n",
       "    </tr>\n",
       "    <tr>\n",
       "      <th>3</th>\n",
       "      <td>536365</td>\n",
       "      <td>84029G</td>\n",
       "      <td>KNITTED UNION FLAG HOT WATER BOTTLE</td>\n",
       "      <td>6</td>\n",
       "      <td>12/1/2010 8:26</td>\n",
       "      <td>3.39</td>\n",
       "      <td>17850.0</td>\n",
       "      <td>United Kingdom</td>\n",
       "      <td>Regular</td>\n",
       "    </tr>\n",
       "    <tr>\n",
       "      <th>4</th>\n",
       "      <td>536365</td>\n",
       "      <td>84029E</td>\n",
       "      <td>RED WOOLLY HOTTIE WHITE HEART.</td>\n",
       "      <td>6</td>\n",
       "      <td>12/1/2010 8:26</td>\n",
       "      <td>3.39</td>\n",
       "      <td>17850.0</td>\n",
       "      <td>United Kingdom</td>\n",
       "      <td>Regular</td>\n",
       "    </tr>\n",
       "  </tbody>\n",
       "</table>\n",
       "</div>"
      ],
      "text/plain": [
       "  InvoiceNo StockCode                          Description  Quantity  \\\n",
       "0    536365    85123A   WHITE HANGING HEART T-LIGHT HOLDER         6   \n",
       "1    536365     71053                  WHITE METAL LANTERN         6   \n",
       "2    536365    84406B       CREAM CUPID HEARTS COAT HANGER         8   \n",
       "3    536365    84029G  KNITTED UNION FLAG HOT WATER BOTTLE         6   \n",
       "4    536365    84029E       RED WOOLLY HOTTIE WHITE HEART.         6   \n",
       "\n",
       "      InvoiceDate  UnitPrice  CustomerID         Country OrderType  \n",
       "0  12/1/2010 8:26       2.55     17850.0  United Kingdom   Regular  \n",
       "1  12/1/2010 8:26       3.39     17850.0  United Kingdom   Regular  \n",
       "2  12/1/2010 8:26       2.75     17850.0  United Kingdom   Regular  \n",
       "3  12/1/2010 8:26       3.39     17850.0  United Kingdom   Regular  \n",
       "4  12/1/2010 8:26       3.39     17850.0  United Kingdom   Regular  "
      ]
     },
     "execution_count": 20,
     "metadata": {},
     "output_type": "execute_result"
    }
   ],
   "source": [
    "df.head()"
   ]
  },
  {
   "cell_type": "code",
   "execution_count": 21,
   "id": "084b2030-5d8f-4964-b804-eb683b0d298c",
   "metadata": {},
   "outputs": [],
   "source": [
    "df['InvoiceDate'] = pd.to_datetime(df['InvoiceDate'])"
   ]
  },
  {
   "cell_type": "code",
   "execution_count": 22,
   "id": "5ee6c9af-2b95-4a0b-8060-2a47b0bbdc36",
   "metadata": {},
   "outputs": [],
   "source": [
    "df['Date'] = df['InvoiceDate'].dt.date"
   ]
  },
  {
   "cell_type": "code",
   "execution_count": 23,
   "id": "d4cd49a8-8a4e-48bd-a49e-789d69e04708",
   "metadata": {},
   "outputs": [],
   "source": [
    "df['Date'] = pd.to_datetime(df['Date'])"
   ]
  },
  {
   "cell_type": "code",
   "execution_count": 24,
   "id": "64cd3496-9aa3-4f5c-9883-608249dfad39",
   "metadata": {},
   "outputs": [],
   "source": [
    "df['Time'] = df['InvoiceDate'].dt.time"
   ]
  },
  {
   "cell_type": "code",
   "execution_count": 25,
   "id": "a1f544f4-d01b-46c1-bf9f-691f73219274",
   "metadata": {},
   "outputs": [
    {
     "data": {
      "text/html": [
       "<div>\n",
       "<style scoped>\n",
       "    .dataframe tbody tr th:only-of-type {\n",
       "        vertical-align: middle;\n",
       "    }\n",
       "\n",
       "    .dataframe tbody tr th {\n",
       "        vertical-align: top;\n",
       "    }\n",
       "\n",
       "    .dataframe thead th {\n",
       "        text-align: right;\n",
       "    }\n",
       "</style>\n",
       "<table border=\"1\" class=\"dataframe\">\n",
       "  <thead>\n",
       "    <tr style=\"text-align: right;\">\n",
       "      <th></th>\n",
       "      <th>InvoiceNo</th>\n",
       "      <th>StockCode</th>\n",
       "      <th>Description</th>\n",
       "      <th>Quantity</th>\n",
       "      <th>InvoiceDate</th>\n",
       "      <th>UnitPrice</th>\n",
       "      <th>CustomerID</th>\n",
       "      <th>Country</th>\n",
       "      <th>OrderType</th>\n",
       "      <th>Date</th>\n",
       "      <th>Time</th>\n",
       "    </tr>\n",
       "  </thead>\n",
       "  <tbody>\n",
       "    <tr>\n",
       "      <th>0</th>\n",
       "      <td>536365</td>\n",
       "      <td>85123A</td>\n",
       "      <td>WHITE HANGING HEART T-LIGHT HOLDER</td>\n",
       "      <td>6</td>\n",
       "      <td>2010-12-01 08:26:00</td>\n",
       "      <td>2.55</td>\n",
       "      <td>17850.0</td>\n",
       "      <td>United Kingdom</td>\n",
       "      <td>Regular</td>\n",
       "      <td>2010-12-01</td>\n",
       "      <td>08:26:00</td>\n",
       "    </tr>\n",
       "    <tr>\n",
       "      <th>1</th>\n",
       "      <td>536365</td>\n",
       "      <td>71053</td>\n",
       "      <td>WHITE METAL LANTERN</td>\n",
       "      <td>6</td>\n",
       "      <td>2010-12-01 08:26:00</td>\n",
       "      <td>3.39</td>\n",
       "      <td>17850.0</td>\n",
       "      <td>United Kingdom</td>\n",
       "      <td>Regular</td>\n",
       "      <td>2010-12-01</td>\n",
       "      <td>08:26:00</td>\n",
       "    </tr>\n",
       "    <tr>\n",
       "      <th>2</th>\n",
       "      <td>536365</td>\n",
       "      <td>84406B</td>\n",
       "      <td>CREAM CUPID HEARTS COAT HANGER</td>\n",
       "      <td>8</td>\n",
       "      <td>2010-12-01 08:26:00</td>\n",
       "      <td>2.75</td>\n",
       "      <td>17850.0</td>\n",
       "      <td>United Kingdom</td>\n",
       "      <td>Regular</td>\n",
       "      <td>2010-12-01</td>\n",
       "      <td>08:26:00</td>\n",
       "    </tr>\n",
       "    <tr>\n",
       "      <th>3</th>\n",
       "      <td>536365</td>\n",
       "      <td>84029G</td>\n",
       "      <td>KNITTED UNION FLAG HOT WATER BOTTLE</td>\n",
       "      <td>6</td>\n",
       "      <td>2010-12-01 08:26:00</td>\n",
       "      <td>3.39</td>\n",
       "      <td>17850.0</td>\n",
       "      <td>United Kingdom</td>\n",
       "      <td>Regular</td>\n",
       "      <td>2010-12-01</td>\n",
       "      <td>08:26:00</td>\n",
       "    </tr>\n",
       "    <tr>\n",
       "      <th>4</th>\n",
       "      <td>536365</td>\n",
       "      <td>84029E</td>\n",
       "      <td>RED WOOLLY HOTTIE WHITE HEART.</td>\n",
       "      <td>6</td>\n",
       "      <td>2010-12-01 08:26:00</td>\n",
       "      <td>3.39</td>\n",
       "      <td>17850.0</td>\n",
       "      <td>United Kingdom</td>\n",
       "      <td>Regular</td>\n",
       "      <td>2010-12-01</td>\n",
       "      <td>08:26:00</td>\n",
       "    </tr>\n",
       "  </tbody>\n",
       "</table>\n",
       "</div>"
      ],
      "text/plain": [
       "  InvoiceNo StockCode                          Description  Quantity  \\\n",
       "0    536365    85123A   WHITE HANGING HEART T-LIGHT HOLDER         6   \n",
       "1    536365     71053                  WHITE METAL LANTERN         6   \n",
       "2    536365    84406B       CREAM CUPID HEARTS COAT HANGER         8   \n",
       "3    536365    84029G  KNITTED UNION FLAG HOT WATER BOTTLE         6   \n",
       "4    536365    84029E       RED WOOLLY HOTTIE WHITE HEART.         6   \n",
       "\n",
       "          InvoiceDate  UnitPrice  CustomerID         Country OrderType  \\\n",
       "0 2010-12-01 08:26:00       2.55     17850.0  United Kingdom   Regular   \n",
       "1 2010-12-01 08:26:00       3.39     17850.0  United Kingdom   Regular   \n",
       "2 2010-12-01 08:26:00       2.75     17850.0  United Kingdom   Regular   \n",
       "3 2010-12-01 08:26:00       3.39     17850.0  United Kingdom   Regular   \n",
       "4 2010-12-01 08:26:00       3.39     17850.0  United Kingdom   Regular   \n",
       "\n",
       "        Date      Time  \n",
       "0 2010-12-01  08:26:00  \n",
       "1 2010-12-01  08:26:00  \n",
       "2 2010-12-01  08:26:00  \n",
       "3 2010-12-01  08:26:00  \n",
       "4 2010-12-01  08:26:00  "
      ]
     },
     "execution_count": 25,
     "metadata": {},
     "output_type": "execute_result"
    }
   ],
   "source": [
    "df.head()"
   ]
  },
  {
   "cell_type": "code",
   "execution_count": 26,
   "id": "cedcaf2c-b762-4503-bb36-47fde50019b2",
   "metadata": {},
   "outputs": [
    {
     "data": {
      "text/plain": [
       "(539178, 11)"
      ]
     },
     "execution_count": 26,
     "metadata": {},
     "output_type": "execute_result"
    }
   ],
   "source": [
    "df.shape"
   ]
  },
  {
   "cell_type": "code",
   "execution_count": 27,
   "id": "95be4450-5adf-4b01-be73-447e64bd7a03",
   "metadata": {},
   "outputs": [
    {
     "name": "stdout",
     "output_type": "stream",
     "text": [
      "<class 'pandas.core.frame.DataFrame'>\n",
      "Index: 539178 entries, 0 to 541908\n",
      "Data columns (total 11 columns):\n",
      " #   Column       Non-Null Count   Dtype         \n",
      "---  ------       --------------   -----         \n",
      " 0   InvoiceNo    539178 non-null  object        \n",
      " 1   StockCode    539178 non-null  object        \n",
      " 2   Description  537729 non-null  object        \n",
      " 3   Quantity     539178 non-null  int64         \n",
      " 4   InvoiceDate  539178 non-null  datetime64[ns]\n",
      " 5   UnitPrice    539178 non-null  float64       \n",
      " 6   CustomerID   405059 non-null  float64       \n",
      " 7   Country      539178 non-null  object        \n",
      " 8   OrderType    539178 non-null  object        \n",
      " 9   Date         539178 non-null  datetime64[ns]\n",
      " 10  Time         539178 non-null  object        \n",
      "dtypes: datetime64[ns](2), float64(2), int64(1), object(6)\n",
      "memory usage: 49.4+ MB\n"
     ]
    }
   ],
   "source": [
    "df.info()"
   ]
  },
  {
   "cell_type": "code",
   "execution_count": 28,
   "id": "6830f232-baf5-4171-b468-9d3a9958bb97",
   "metadata": {},
   "outputs": [
    {
     "data": {
      "text/plain": [
       "InvoiceNo           0\n",
       "StockCode           0\n",
       "Description      1449\n",
       "Quantity            0\n",
       "InvoiceDate         0\n",
       "UnitPrice           0\n",
       "CustomerID     134119\n",
       "Country             0\n",
       "OrderType           0\n",
       "Date                0\n",
       "Time                0\n",
       "dtype: int64"
      ]
     },
     "execution_count": 28,
     "metadata": {},
     "output_type": "execute_result"
    }
   ],
   "source": [
    "df.isnull().sum()"
   ]
  },
  {
   "cell_type": "code",
   "execution_count": 29,
   "id": "30cc4286-5736-46a8-ac32-57a9d9854679",
   "metadata": {},
   "outputs": [
    {
     "data": {
      "text/plain": [
       "(539178, 11)"
      ]
     },
     "execution_count": 29,
     "metadata": {},
     "output_type": "execute_result"
    }
   ],
   "source": [
    "df.shape"
   ]
  },
  {
   "cell_type": "code",
   "execution_count": 30,
   "id": "f291759c-987f-4605-966e-4e28a1515f66",
   "metadata": {},
   "outputs": [
    {
     "data": {
      "text/html": [
       "<div>\n",
       "<style scoped>\n",
       "    .dataframe tbody tr th:only-of-type {\n",
       "        vertical-align: middle;\n",
       "    }\n",
       "\n",
       "    .dataframe tbody tr th {\n",
       "        vertical-align: top;\n",
       "    }\n",
       "\n",
       "    .dataframe thead th {\n",
       "        text-align: right;\n",
       "    }\n",
       "</style>\n",
       "<table border=\"1\" class=\"dataframe\">\n",
       "  <thead>\n",
       "    <tr style=\"text-align: right;\">\n",
       "      <th></th>\n",
       "      <th>InvoiceNo</th>\n",
       "      <th>StockCode</th>\n",
       "      <th>Description</th>\n",
       "      <th>Quantity</th>\n",
       "      <th>InvoiceDate</th>\n",
       "      <th>UnitPrice</th>\n",
       "      <th>CustomerID</th>\n",
       "      <th>Country</th>\n",
       "      <th>OrderType</th>\n",
       "      <th>Date</th>\n",
       "      <th>Time</th>\n",
       "    </tr>\n",
       "  </thead>\n",
       "  <tbody>\n",
       "    <tr>\n",
       "      <th>0</th>\n",
       "      <td>536365</td>\n",
       "      <td>85123A</td>\n",
       "      <td>WHITE HANGING HEART T-LIGHT HOLDER</td>\n",
       "      <td>6</td>\n",
       "      <td>2010-12-01 08:26:00</td>\n",
       "      <td>2.55</td>\n",
       "      <td>17850.0</td>\n",
       "      <td>United Kingdom</td>\n",
       "      <td>Regular</td>\n",
       "      <td>2010-12-01</td>\n",
       "      <td>08:26:00</td>\n",
       "    </tr>\n",
       "    <tr>\n",
       "      <th>1</th>\n",
       "      <td>536365</td>\n",
       "      <td>71053</td>\n",
       "      <td>WHITE METAL LANTERN</td>\n",
       "      <td>6</td>\n",
       "      <td>2010-12-01 08:26:00</td>\n",
       "      <td>3.39</td>\n",
       "      <td>17850.0</td>\n",
       "      <td>United Kingdom</td>\n",
       "      <td>Regular</td>\n",
       "      <td>2010-12-01</td>\n",
       "      <td>08:26:00</td>\n",
       "    </tr>\n",
       "    <tr>\n",
       "      <th>2</th>\n",
       "      <td>536365</td>\n",
       "      <td>84406B</td>\n",
       "      <td>CREAM CUPID HEARTS COAT HANGER</td>\n",
       "      <td>8</td>\n",
       "      <td>2010-12-01 08:26:00</td>\n",
       "      <td>2.75</td>\n",
       "      <td>17850.0</td>\n",
       "      <td>United Kingdom</td>\n",
       "      <td>Regular</td>\n",
       "      <td>2010-12-01</td>\n",
       "      <td>08:26:00</td>\n",
       "    </tr>\n",
       "    <tr>\n",
       "      <th>3</th>\n",
       "      <td>536365</td>\n",
       "      <td>84029G</td>\n",
       "      <td>KNITTED UNION FLAG HOT WATER BOTTLE</td>\n",
       "      <td>6</td>\n",
       "      <td>2010-12-01 08:26:00</td>\n",
       "      <td>3.39</td>\n",
       "      <td>17850.0</td>\n",
       "      <td>United Kingdom</td>\n",
       "      <td>Regular</td>\n",
       "      <td>2010-12-01</td>\n",
       "      <td>08:26:00</td>\n",
       "    </tr>\n",
       "    <tr>\n",
       "      <th>4</th>\n",
       "      <td>536365</td>\n",
       "      <td>84029E</td>\n",
       "      <td>RED WOOLLY HOTTIE WHITE HEART.</td>\n",
       "      <td>6</td>\n",
       "      <td>2010-12-01 08:26:00</td>\n",
       "      <td>3.39</td>\n",
       "      <td>17850.0</td>\n",
       "      <td>United Kingdom</td>\n",
       "      <td>Regular</td>\n",
       "      <td>2010-12-01</td>\n",
       "      <td>08:26:00</td>\n",
       "    </tr>\n",
       "  </tbody>\n",
       "</table>\n",
       "</div>"
      ],
      "text/plain": [
       "  InvoiceNo StockCode                          Description  Quantity  \\\n",
       "0    536365    85123A   WHITE HANGING HEART T-LIGHT HOLDER         6   \n",
       "1    536365     71053                  WHITE METAL LANTERN         6   \n",
       "2    536365    84406B       CREAM CUPID HEARTS COAT HANGER         8   \n",
       "3    536365    84029G  KNITTED UNION FLAG HOT WATER BOTTLE         6   \n",
       "4    536365    84029E       RED WOOLLY HOTTIE WHITE HEART.         6   \n",
       "\n",
       "          InvoiceDate  UnitPrice  CustomerID         Country OrderType  \\\n",
       "0 2010-12-01 08:26:00       2.55     17850.0  United Kingdom   Regular   \n",
       "1 2010-12-01 08:26:00       3.39     17850.0  United Kingdom   Regular   \n",
       "2 2010-12-01 08:26:00       2.75     17850.0  United Kingdom   Regular   \n",
       "3 2010-12-01 08:26:00       3.39     17850.0  United Kingdom   Regular   \n",
       "4 2010-12-01 08:26:00       3.39     17850.0  United Kingdom   Regular   \n",
       "\n",
       "        Date      Time  \n",
       "0 2010-12-01  08:26:00  \n",
       "1 2010-12-01  08:26:00  \n",
       "2 2010-12-01  08:26:00  \n",
       "3 2010-12-01  08:26:00  \n",
       "4 2010-12-01  08:26:00  "
      ]
     },
     "execution_count": 30,
     "metadata": {},
     "output_type": "execute_result"
    }
   ],
   "source": [
    "df.head(5)"
   ]
  },
  {
   "cell_type": "code",
   "execution_count": 31,
   "id": "f23fedf1-e046-4dd0-8f2f-4868dc01a4ea",
   "metadata": {},
   "outputs": [],
   "source": [
    "df['Revenue'] = df['Quantity']*df['UnitPrice']"
   ]
  },
  {
   "cell_type": "code",
   "execution_count": 32,
   "id": "d49cd0c5-801c-4812-80e7-2daf8b6bce18",
   "metadata": {},
   "outputs": [
    {
     "data": {
      "text/plain": [
       "array([     6,      8,      2,     32,      3,      4,     24,     12,\n",
       "           48,     18,     20,     36,     80,     64,     10,    120,\n",
       "           96,     23,      5,      1,     50,     -1,     40,    100,\n",
       "          192,    432,    144,    288,    -12,    -24,     16,      9,\n",
       "          128,     25,     30,     28,      7,     56,     72,    200,\n",
       "          600,    480,     -6,     14,     -2,     11,     33,     13,\n",
       "           -4,     -5,     -7,     -3,     70,    252,     60,    216,\n",
       "          384,    -10,     27,     15,     22,     19,     17,     21,\n",
       "           34,     47,    108,     52,  -9360,    -38,     75,    270,\n",
       "           42,    240,     90,    320,   1824,    204,     69,    -36,\n",
       "         -192,   -144,    160,   2880,   1400,     39,    -48,    -50,\n",
       "           26,   1440,     31,     82,     78,     97,     98,     35,\n",
       "           57,    -20,    110,    -22,    -30,    -70,   -130,    -80,\n",
       "         -120,    -40,    -25,    -14,    -15,    -69,   -140,   -320,\n",
       "           -8,    720,    156,    324,     38,     37,     49,     95,\n",
       "           -9,    -11,     29,     41,    -72,    -35,    -21,    -43,\n",
       "          -19,    -18,    -44,    402,    378,    150,    300,     54,\n",
       "          104,     67,    258,     66,     44,     55,     46,     99,\n",
       "           61,    408,    972,    208,   1008,   1000,    -77,   1488,\n",
       "          250,   1394,    400,   -223,   -150,    -13,    -33,   -723,\n",
       "         -177,     79,     84,    -32,   -100,    -28,    272,   -145,\n",
       "          -47,    -96,    113,     45,    106,     68,    267,    115,\n",
       "           65,   1728,    -60,    -16,     53,   -240,     76,    460,\n",
       "           71,     43,    213,     58,    576,   2400,    500,    180,\n",
       "         -300,   -500,    -23,    752,    960,   1296,    210,    172,\n",
       "          215,    129,    138,    116,    135,    197,   -106,    -54,\n",
       "          -17,   -939,    147,    168,    256,   -201,    -53,    -29,\n",
       "        -2600,   -990,   -290,    -45,    860,   1010,   1356,   1284,\n",
       "          186,    114,    360,   1930,   2000,   3114,   1300,    670,\n",
       "          111,    211,     59,   -310,    -61,    -41,    176,    648,\n",
       "           62,  74215, -74215,    -64,    -84,     89,  -1400,     73,\n",
       "          -57,    112,    456,    -59,    -31,   5568,   2560,    136,\n",
       "          900,   -600,    -42,    -94,   -207,    -52,    130,   -206,\n",
       "         2592,    420,    800,    101,   1200,    864,   -217,     94,\n",
       "        -1430,   1287,   -162,   -230,   -173,   -390,   -234,    504,\n",
       "          123,    118,    -76,   1056,   1500,    280,    407,    141,\n",
       "          124,    -99,     51,    -92,   -741,   3906,   -400,   -114,\n",
       "          102,   1152,    -88,    198,    117,     86,    125,    -86,\n",
       "         -391,    -87,   -278,    140,    228,   -154,  -3000,     81,\n",
       "         -675,   -210,   -345,   -975,  -1200,  -1121,    -27,   -541,\n",
       "        -1277,   -197,   3000,  -1100,    -63,  -5368,    219,   -259,\n",
       "          232,    -82,   -178,    170,   -110,    768,     88,    700,\n",
       "         2160,   -323,   -450,   -232,    -83,   -153,   -524,  -2472,\n",
       "          -49,   -105,    342,    304,    167,    -34,    640,    175,\n",
       "          220,     74,     93,    164,    163,     63,    637,    122,\n",
       "          158,    165,    350,    -46,    -75,   -690,    -39,    -66,\n",
       "           83,   -200,    312,   -180,    392,   -624,   -194,    -26,\n",
       "          -62,    -37,    -91,   -139,   -158,  -1479,    -55,   -576,\n",
       "         -750,    330,    151,    -93,   -432,    -58,  -1092,   -670,\n",
       "        -1300,  -1930,  -2000,  -3114,    462,    -65,    -68,    492,\n",
       "         -620,    273,    -90,   -170,  -1512,    -51,     85,    -56,\n",
       "         -160,   -360,    105,   -960,  -2376,   1350,    428,    336,\n",
       "         -786,   -590,   -168,   -101,    -71,    132,   -413,   -664,\n",
       "          227,   2700,    222,    246,   -102,    906,    756,    888,\n",
       "          552,    -97,    224,    738,    608,   -212,   4300,    146,\n",
       "          143,    276,   -125,   -116,   -108,   4000,   -304,   -272,\n",
       "        -1206,    -95,   1600,    323,   -161,   -472,   -618,   -204,\n",
       "         1515,  -1515,  -9058,  -9600,    660,   -420,   -126,   -220,\n",
       "         -271,  -1440,    264,    188,    588,    612,    152,   -324,\n",
       "         -480,   -164,    -78,   -118,    430,  -1681,     87,    155,\n",
       "          701,    828,    540,    696,    560,   -250,   -408,   -179,\n",
       "          121,   -124,    512,   -251,  -3100,   3100,   -169,    126,\n",
       "          291,   3186,  -2834,   -109,    109,   -121,   -530,   -227,\n",
       "          261,   -346,    352,    142,    107,   -188,  -1060,   -342,\n",
       "         -288,    348,   1900,    157,   -343,   -455,    425,    968,\n",
       "          684,    824,   -828,   -701,    196,    248,    410,    236,\n",
       "          230,   -156,   -553,    145,    448,    245,   -252,   -334,\n",
       "         -318,   -113,   -115,    171,   -242,    840,   -967,   -203,\n",
       "        -3167,   -443,  -1897,    225,   -434,   -682,   -484,    682,\n",
       "          344,   -635,   -117,  -3667,    450,    310,    494,   -384,\n",
       "           92,   1788,   -138,    624,    744,    416,    496,    396,\n",
       "          306,   1878,   1944,    666,    708,   1428,    852,   1412,\n",
       "          528,   -756,   -752,   -152,    -85,   -312,    -79,   -147,\n",
       "          -67,   -131,   -209,   -186,   -231,   -129,   -458,   -275,\n",
       "        -2880,   1540,    672,   -800,   -430,   -380,    -74,   -720,\n",
       "         -840,  -1296,   -365,   -104,   -270,    -73,   -306,     91,\n",
       "          255,    468,   -468,   -111,   -184,   -103,   -335,   4800,\n",
       "         -112,  -1000,    912,   1992,    184,    148,   -657,  -1671,\n",
       "        -1158,  -2618,  -2003,   -674,  -4830,   -905,  -1128,    992,\n",
       "          630,   1020,   2100,    162,  -1560,  -1284,    -81,    314,\n",
       "          370,    131,    133,    484,    149,    153,    257,    139,\n",
       "          137,    628,    179,   1820,    478,    335,    253,    242,\n",
       "          375,   -276,   -256,    281,    193,    181,    404,    244,\n",
       "          207,    199,   1130,    326,    654,    688,    268,    183,\n",
       "          249,   -864,    234,  -1510,   -550,   -244,   -132,   -327,\n",
       "         -313,    279,   -398,   -280,    374,   -504,   -696,   -149,\n",
       "         -224,   -428,    212,   -267,   -175,  12540,    760,    -98,\n",
       "          774,   -151,   2040,  -1131,   -135,   1120,     77,   -900,\n",
       "          177,    490,    388,    620,   1404,   -155,   -355,   -337,\n",
       "        -1050,   -338,    205,   -235,    698,  80995, -80995],\n",
       "      dtype=int64)"
      ]
     },
     "execution_count": 32,
     "metadata": {},
     "output_type": "execute_result"
    }
   ],
   "source": [
    "df['Quantity'].unique()"
   ]
  },
  {
   "cell_type": "code",
   "execution_count": 33,
   "id": "d764531b-b68c-4a5f-a495-780681ad2a03",
   "metadata": {},
   "outputs": [
    {
     "data": {
      "text/html": [
       "<div>\n",
       "<style scoped>\n",
       "    .dataframe tbody tr th:only-of-type {\n",
       "        vertical-align: middle;\n",
       "    }\n",
       "\n",
       "    .dataframe tbody tr th {\n",
       "        vertical-align: top;\n",
       "    }\n",
       "\n",
       "    .dataframe thead th {\n",
       "        text-align: right;\n",
       "    }\n",
       "</style>\n",
       "<table border=\"1\" class=\"dataframe\">\n",
       "  <thead>\n",
       "    <tr style=\"text-align: right;\">\n",
       "      <th></th>\n",
       "      <th>InvoiceNo</th>\n",
       "      <th>StockCode</th>\n",
       "      <th>Description</th>\n",
       "      <th>Quantity</th>\n",
       "      <th>InvoiceDate</th>\n",
       "      <th>UnitPrice</th>\n",
       "      <th>CustomerID</th>\n",
       "      <th>Country</th>\n",
       "      <th>OrderType</th>\n",
       "      <th>Date</th>\n",
       "      <th>Time</th>\n",
       "      <th>Revenue</th>\n",
       "    </tr>\n",
       "  </thead>\n",
       "  <tbody>\n",
       "    <tr>\n",
       "      <th>61624</th>\n",
       "      <td>C541433</td>\n",
       "      <td>23166</td>\n",
       "      <td>MEDIUM CERAMIC TOP STORAGE JAR</td>\n",
       "      <td>-74215</td>\n",
       "      <td>2011-01-18 10:17:00</td>\n",
       "      <td>1.04</td>\n",
       "      <td>12346.0</td>\n",
       "      <td>United Kingdom</td>\n",
       "      <td>Cancelled</td>\n",
       "      <td>2011-01-18</td>\n",
       "      <td>10:17:00</td>\n",
       "      <td>-77183.6</td>\n",
       "    </tr>\n",
       "  </tbody>\n",
       "</table>\n",
       "</div>"
      ],
      "text/plain": [
       "      InvoiceNo StockCode                     Description  Quantity  \\\n",
       "61624   C541433     23166  MEDIUM CERAMIC TOP STORAGE JAR    -74215   \n",
       "\n",
       "              InvoiceDate  UnitPrice  CustomerID         Country  OrderType  \\\n",
       "61624 2011-01-18 10:17:00       1.04     12346.0  United Kingdom  Cancelled   \n",
       "\n",
       "            Date      Time  Revenue  \n",
       "61624 2011-01-18  10:17:00 -77183.6  "
      ]
     },
     "execution_count": 33,
     "metadata": {},
     "output_type": "execute_result"
    }
   ],
   "source": [
    "df[df['Quantity']== -74215]"
   ]
  },
  {
   "cell_type": "code",
   "execution_count": 34,
   "id": "aa5d8006-23cc-45bf-9957-e610221bb6e4",
   "metadata": {},
   "outputs": [
    {
     "data": {
      "text/html": [
       "<div>\n",
       "<style scoped>\n",
       "    .dataframe tbody tr th:only-of-type {\n",
       "        vertical-align: middle;\n",
       "    }\n",
       "\n",
       "    .dataframe tbody tr th {\n",
       "        vertical-align: top;\n",
       "    }\n",
       "\n",
       "    .dataframe thead th {\n",
       "        text-align: right;\n",
       "    }\n",
       "</style>\n",
       "<table border=\"1\" class=\"dataframe\">\n",
       "  <thead>\n",
       "    <tr style=\"text-align: right;\">\n",
       "      <th></th>\n",
       "      <th>InvoiceNo</th>\n",
       "      <th>StockCode</th>\n",
       "      <th>Description</th>\n",
       "      <th>Quantity</th>\n",
       "      <th>InvoiceDate</th>\n",
       "      <th>UnitPrice</th>\n",
       "      <th>CustomerID</th>\n",
       "      <th>Country</th>\n",
       "      <th>OrderType</th>\n",
       "      <th>Date</th>\n",
       "      <th>Time</th>\n",
       "      <th>Revenue</th>\n",
       "    </tr>\n",
       "  </thead>\n",
       "  <tbody>\n",
       "    <tr>\n",
       "      <th>61619</th>\n",
       "      <td>541431</td>\n",
       "      <td>23166</td>\n",
       "      <td>MEDIUM CERAMIC TOP STORAGE JAR</td>\n",
       "      <td>74215</td>\n",
       "      <td>2011-01-18 10:01:00</td>\n",
       "      <td>1.04</td>\n",
       "      <td>12346.0</td>\n",
       "      <td>United Kingdom</td>\n",
       "      <td>Regular</td>\n",
       "      <td>2011-01-18</td>\n",
       "      <td>10:01:00</td>\n",
       "      <td>77183.6</td>\n",
       "    </tr>\n",
       "  </tbody>\n",
       "</table>\n",
       "</div>"
      ],
      "text/plain": [
       "      InvoiceNo StockCode                     Description  Quantity  \\\n",
       "61619    541431     23166  MEDIUM CERAMIC TOP STORAGE JAR     74215   \n",
       "\n",
       "              InvoiceDate  UnitPrice  CustomerID         Country OrderType  \\\n",
       "61619 2011-01-18 10:01:00       1.04     12346.0  United Kingdom   Regular   \n",
       "\n",
       "            Date      Time  Revenue  \n",
       "61619 2011-01-18  10:01:00  77183.6  "
      ]
     },
     "execution_count": 34,
     "metadata": {},
     "output_type": "execute_result"
    }
   ],
   "source": [
    "df[df['Quantity']== 74215]"
   ]
  },
  {
   "cell_type": "code",
   "execution_count": 35,
   "id": "da30b2ec-a274-4c17-93bd-bd8c0f3de5b7",
   "metadata": {},
   "outputs": [
    {
     "data": {
      "text/html": [
       "<div>\n",
       "<style scoped>\n",
       "    .dataframe tbody tr th:only-of-type {\n",
       "        vertical-align: middle;\n",
       "    }\n",
       "\n",
       "    .dataframe tbody tr th {\n",
       "        vertical-align: top;\n",
       "    }\n",
       "\n",
       "    .dataframe thead th {\n",
       "        text-align: right;\n",
       "    }\n",
       "</style>\n",
       "<table border=\"1\" class=\"dataframe\">\n",
       "  <thead>\n",
       "    <tr style=\"text-align: right;\">\n",
       "      <th></th>\n",
       "      <th>InvoiceNo</th>\n",
       "      <th>StockCode</th>\n",
       "      <th>Description</th>\n",
       "      <th>Quantity</th>\n",
       "      <th>InvoiceDate</th>\n",
       "      <th>UnitPrice</th>\n",
       "      <th>CustomerID</th>\n",
       "      <th>Country</th>\n",
       "      <th>OrderType</th>\n",
       "      <th>Date</th>\n",
       "      <th>Time</th>\n",
       "      <th>Revenue</th>\n",
       "    </tr>\n",
       "  </thead>\n",
       "  <tbody>\n",
       "    <tr>\n",
       "      <th>540422</th>\n",
       "      <td>C581484</td>\n",
       "      <td>23843</td>\n",
       "      <td>PAPER CRAFT , LITTLE BIRDIE</td>\n",
       "      <td>-80995</td>\n",
       "      <td>2011-12-09 09:27:00</td>\n",
       "      <td>2.08</td>\n",
       "      <td>16446.0</td>\n",
       "      <td>United Kingdom</td>\n",
       "      <td>Cancelled</td>\n",
       "      <td>2011-12-09</td>\n",
       "      <td>09:27:00</td>\n",
       "      <td>-168469.6</td>\n",
       "    </tr>\n",
       "  </tbody>\n",
       "</table>\n",
       "</div>"
      ],
      "text/plain": [
       "       InvoiceNo StockCode                  Description  Quantity  \\\n",
       "540422   C581484     23843  PAPER CRAFT , LITTLE BIRDIE    -80995   \n",
       "\n",
       "               InvoiceDate  UnitPrice  CustomerID         Country  OrderType  \\\n",
       "540422 2011-12-09 09:27:00       2.08     16446.0  United Kingdom  Cancelled   \n",
       "\n",
       "             Date      Time   Revenue  \n",
       "540422 2011-12-09  09:27:00 -168469.6  "
      ]
     },
     "execution_count": 35,
     "metadata": {},
     "output_type": "execute_result"
    }
   ],
   "source": [
    "df[df['Quantity']== -80995]"
   ]
  },
  {
   "cell_type": "code",
   "execution_count": 36,
   "id": "581aa9e4-6fef-4ae5-98e5-84a16081bf13",
   "metadata": {},
   "outputs": [
    {
     "data": {
      "text/html": [
       "<div>\n",
       "<style scoped>\n",
       "    .dataframe tbody tr th:only-of-type {\n",
       "        vertical-align: middle;\n",
       "    }\n",
       "\n",
       "    .dataframe tbody tr th {\n",
       "        vertical-align: top;\n",
       "    }\n",
       "\n",
       "    .dataframe thead th {\n",
       "        text-align: right;\n",
       "    }\n",
       "</style>\n",
       "<table border=\"1\" class=\"dataframe\">\n",
       "  <thead>\n",
       "    <tr style=\"text-align: right;\">\n",
       "      <th></th>\n",
       "      <th>InvoiceNo</th>\n",
       "      <th>StockCode</th>\n",
       "      <th>Description</th>\n",
       "      <th>Quantity</th>\n",
       "      <th>InvoiceDate</th>\n",
       "      <th>UnitPrice</th>\n",
       "      <th>CustomerID</th>\n",
       "      <th>Country</th>\n",
       "      <th>OrderType</th>\n",
       "      <th>Date</th>\n",
       "      <th>Time</th>\n",
       "      <th>Revenue</th>\n",
       "    </tr>\n",
       "  </thead>\n",
       "  <tbody>\n",
       "    <tr>\n",
       "      <th>540421</th>\n",
       "      <td>581483</td>\n",
       "      <td>23843</td>\n",
       "      <td>PAPER CRAFT , LITTLE BIRDIE</td>\n",
       "      <td>80995</td>\n",
       "      <td>2011-12-09 09:15:00</td>\n",
       "      <td>2.08</td>\n",
       "      <td>16446.0</td>\n",
       "      <td>United Kingdom</td>\n",
       "      <td>Regular</td>\n",
       "      <td>2011-12-09</td>\n",
       "      <td>09:15:00</td>\n",
       "      <td>168469.6</td>\n",
       "    </tr>\n",
       "  </tbody>\n",
       "</table>\n",
       "</div>"
      ],
      "text/plain": [
       "       InvoiceNo StockCode                  Description  Quantity  \\\n",
       "540421    581483     23843  PAPER CRAFT , LITTLE BIRDIE     80995   \n",
       "\n",
       "               InvoiceDate  UnitPrice  CustomerID         Country OrderType  \\\n",
       "540421 2011-12-09 09:15:00       2.08     16446.0  United Kingdom   Regular   \n",
       "\n",
       "             Date      Time   Revenue  \n",
       "540421 2011-12-09  09:15:00  168469.6  "
      ]
     },
     "execution_count": 36,
     "metadata": {},
     "output_type": "execute_result"
    }
   ],
   "source": [
    "df[df['Quantity']== 80995]"
   ]
  },
  {
   "cell_type": "code",
   "execution_count": 37,
   "id": "558acbee-600f-466a-8207-059b957cd41f",
   "metadata": {},
   "outputs": [
    {
     "data": {
      "text/html": [
       "<div>\n",
       "<style scoped>\n",
       "    .dataframe tbody tr th:only-of-type {\n",
       "        vertical-align: middle;\n",
       "    }\n",
       "\n",
       "    .dataframe tbody tr th {\n",
       "        vertical-align: top;\n",
       "    }\n",
       "\n",
       "    .dataframe thead th {\n",
       "        text-align: right;\n",
       "    }\n",
       "</style>\n",
       "<table border=\"1\" class=\"dataframe\">\n",
       "  <thead>\n",
       "    <tr style=\"text-align: right;\">\n",
       "      <th></th>\n",
       "      <th>InvoiceNo</th>\n",
       "      <th>StockCode</th>\n",
       "      <th>Description</th>\n",
       "      <th>Quantity</th>\n",
       "      <th>InvoiceDate</th>\n",
       "      <th>UnitPrice</th>\n",
       "      <th>CustomerID</th>\n",
       "      <th>Country</th>\n",
       "      <th>OrderType</th>\n",
       "      <th>Date</th>\n",
       "      <th>Time</th>\n",
       "      <th>Revenue</th>\n",
       "    </tr>\n",
       "  </thead>\n",
       "  <tbody>\n",
       "    <tr>\n",
       "      <th>0</th>\n",
       "      <td>536365</td>\n",
       "      <td>85123A</td>\n",
       "      <td>WHITE HANGING HEART T-LIGHT HOLDER</td>\n",
       "      <td>6</td>\n",
       "      <td>2010-12-01 08:26:00</td>\n",
       "      <td>2.55</td>\n",
       "      <td>17850.0</td>\n",
       "      <td>United Kingdom</td>\n",
       "      <td>Regular</td>\n",
       "      <td>2010-12-01</td>\n",
       "      <td>08:26:00</td>\n",
       "      <td>15.30</td>\n",
       "    </tr>\n",
       "    <tr>\n",
       "      <th>1</th>\n",
       "      <td>536365</td>\n",
       "      <td>71053</td>\n",
       "      <td>WHITE METAL LANTERN</td>\n",
       "      <td>6</td>\n",
       "      <td>2010-12-01 08:26:00</td>\n",
       "      <td>3.39</td>\n",
       "      <td>17850.0</td>\n",
       "      <td>United Kingdom</td>\n",
       "      <td>Regular</td>\n",
       "      <td>2010-12-01</td>\n",
       "      <td>08:26:00</td>\n",
       "      <td>20.34</td>\n",
       "    </tr>\n",
       "    <tr>\n",
       "      <th>2</th>\n",
       "      <td>536365</td>\n",
       "      <td>84406B</td>\n",
       "      <td>CREAM CUPID HEARTS COAT HANGER</td>\n",
       "      <td>8</td>\n",
       "      <td>2010-12-01 08:26:00</td>\n",
       "      <td>2.75</td>\n",
       "      <td>17850.0</td>\n",
       "      <td>United Kingdom</td>\n",
       "      <td>Regular</td>\n",
       "      <td>2010-12-01</td>\n",
       "      <td>08:26:00</td>\n",
       "      <td>22.00</td>\n",
       "    </tr>\n",
       "    <tr>\n",
       "      <th>3</th>\n",
       "      <td>536365</td>\n",
       "      <td>84029G</td>\n",
       "      <td>KNITTED UNION FLAG HOT WATER BOTTLE</td>\n",
       "      <td>6</td>\n",
       "      <td>2010-12-01 08:26:00</td>\n",
       "      <td>3.39</td>\n",
       "      <td>17850.0</td>\n",
       "      <td>United Kingdom</td>\n",
       "      <td>Regular</td>\n",
       "      <td>2010-12-01</td>\n",
       "      <td>08:26:00</td>\n",
       "      <td>20.34</td>\n",
       "    </tr>\n",
       "    <tr>\n",
       "      <th>4</th>\n",
       "      <td>536365</td>\n",
       "      <td>84029E</td>\n",
       "      <td>RED WOOLLY HOTTIE WHITE HEART.</td>\n",
       "      <td>6</td>\n",
       "      <td>2010-12-01 08:26:00</td>\n",
       "      <td>3.39</td>\n",
       "      <td>17850.0</td>\n",
       "      <td>United Kingdom</td>\n",
       "      <td>Regular</td>\n",
       "      <td>2010-12-01</td>\n",
       "      <td>08:26:00</td>\n",
       "      <td>20.34</td>\n",
       "    </tr>\n",
       "  </tbody>\n",
       "</table>\n",
       "</div>"
      ],
      "text/plain": [
       "  InvoiceNo StockCode                          Description  Quantity  \\\n",
       "0    536365    85123A   WHITE HANGING HEART T-LIGHT HOLDER         6   \n",
       "1    536365     71053                  WHITE METAL LANTERN         6   \n",
       "2    536365    84406B       CREAM CUPID HEARTS COAT HANGER         8   \n",
       "3    536365    84029G  KNITTED UNION FLAG HOT WATER BOTTLE         6   \n",
       "4    536365    84029E       RED WOOLLY HOTTIE WHITE HEART.         6   \n",
       "\n",
       "          InvoiceDate  UnitPrice  CustomerID         Country OrderType  \\\n",
       "0 2010-12-01 08:26:00       2.55     17850.0  United Kingdom   Regular   \n",
       "1 2010-12-01 08:26:00       3.39     17850.0  United Kingdom   Regular   \n",
       "2 2010-12-01 08:26:00       2.75     17850.0  United Kingdom   Regular   \n",
       "3 2010-12-01 08:26:00       3.39     17850.0  United Kingdom   Regular   \n",
       "4 2010-12-01 08:26:00       3.39     17850.0  United Kingdom   Regular   \n",
       "\n",
       "        Date      Time  Revenue  \n",
       "0 2010-12-01  08:26:00    15.30  \n",
       "1 2010-12-01  08:26:00    20.34  \n",
       "2 2010-12-01  08:26:00    22.00  \n",
       "3 2010-12-01  08:26:00    20.34  \n",
       "4 2010-12-01  08:26:00    20.34  "
      ]
     },
     "execution_count": 37,
     "metadata": {},
     "output_type": "execute_result"
    }
   ],
   "source": [
    "df.head()"
   ]
  },
  {
   "cell_type": "code",
   "execution_count": 38,
   "id": "65968240-4903-4bd6-8549-fbe5ab7c05e0",
   "metadata": {},
   "outputs": [
    {
     "data": {
      "text/plain": [
       "9793205.054"
      ]
     },
     "execution_count": 38,
     "metadata": {},
     "output_type": "execute_result"
    }
   ],
   "source": [
    "df['Revenue'].sum()"
   ]
  },
  {
   "cell_type": "code",
   "execution_count": 39,
   "id": "12bc67a0-9195-47c5-82f1-814777c3998e",
   "metadata": {},
   "outputs": [
    {
     "data": {
      "text/plain": [
       "(539178, 12)"
      ]
     },
     "execution_count": 39,
     "metadata": {},
     "output_type": "execute_result"
    }
   ],
   "source": [
    "df.shape"
   ]
  },
  {
   "cell_type": "code",
   "execution_count": null,
   "id": "a8e61678-dd12-40ad-abd6-a4f7464030ea",
   "metadata": {},
   "outputs": [],
   "source": [
    "# Will not include these huge quantitites as they were later cancelled!"
   ]
  },
  {
   "cell_type": "markdown",
   "id": "7fa81a4f-4029-4636-b033-7f3b1a272355",
   "metadata": {},
   "source": [
    "### HANDLING DUPLICATES"
   ]
  },
  {
   "cell_type": "code",
   "execution_count": 40,
   "id": "a878c2ed-4548-4e8e-89c4-f7f06b9bce2f",
   "metadata": {},
   "outputs": [],
   "source": [
    "duplicates = df[df.duplicated(keep=False)]"
   ]
  },
  {
   "cell_type": "code",
   "execution_count": 41,
   "id": "20eaf906-351a-44f1-88f4-1450be4f62b6",
   "metadata": {},
   "outputs": [
    {
     "name": "stdout",
     "output_type": "stream",
     "text": [
      "(10139, 12)\n"
     ]
    }
   ],
   "source": [
    "print(duplicates.shape)"
   ]
  },
  {
   "cell_type": "code",
   "execution_count": 42,
   "id": "f5389a5c-f06b-4c72-8fb4-52d087cbee1c",
   "metadata": {
    "scrolled": true
   },
   "outputs": [
    {
     "data": {
      "text/html": [
       "<div>\n",
       "<style scoped>\n",
       "    .dataframe tbody tr th:only-of-type {\n",
       "        vertical-align: middle;\n",
       "    }\n",
       "\n",
       "    .dataframe tbody tr th {\n",
       "        vertical-align: top;\n",
       "    }\n",
       "\n",
       "    .dataframe thead th {\n",
       "        text-align: right;\n",
       "    }\n",
       "</style>\n",
       "<table border=\"1\" class=\"dataframe\">\n",
       "  <thead>\n",
       "    <tr style=\"text-align: right;\">\n",
       "      <th></th>\n",
       "      <th>InvoiceNo</th>\n",
       "      <th>StockCode</th>\n",
       "      <th>Description</th>\n",
       "      <th>Quantity</th>\n",
       "      <th>InvoiceDate</th>\n",
       "      <th>UnitPrice</th>\n",
       "      <th>CustomerID</th>\n",
       "      <th>Country</th>\n",
       "      <th>OrderType</th>\n",
       "      <th>Date</th>\n",
       "      <th>Time</th>\n",
       "      <th>Revenue</th>\n",
       "    </tr>\n",
       "  </thead>\n",
       "  <tbody>\n",
       "    <tr>\n",
       "      <th>485</th>\n",
       "      <td>536409</td>\n",
       "      <td>22111</td>\n",
       "      <td>SCOTTIE DOG HOT WATER BOTTLE</td>\n",
       "      <td>1</td>\n",
       "      <td>2010-12-01 11:45:00</td>\n",
       "      <td>4.95</td>\n",
       "      <td>17908.0</td>\n",
       "      <td>United Kingdom</td>\n",
       "      <td>Regular</td>\n",
       "      <td>2010-12-01</td>\n",
       "      <td>11:45:00</td>\n",
       "      <td>4.95</td>\n",
       "    </tr>\n",
       "    <tr>\n",
       "      <th>489</th>\n",
       "      <td>536409</td>\n",
       "      <td>22866</td>\n",
       "      <td>HAND WARMER SCOTTY DOG DESIGN</td>\n",
       "      <td>1</td>\n",
       "      <td>2010-12-01 11:45:00</td>\n",
       "      <td>2.10</td>\n",
       "      <td>17908.0</td>\n",
       "      <td>United Kingdom</td>\n",
       "      <td>Regular</td>\n",
       "      <td>2010-12-01</td>\n",
       "      <td>11:45:00</td>\n",
       "      <td>2.10</td>\n",
       "    </tr>\n",
       "    <tr>\n",
       "      <th>494</th>\n",
       "      <td>536409</td>\n",
       "      <td>21866</td>\n",
       "      <td>UNION JACK FLAG LUGGAGE TAG</td>\n",
       "      <td>1</td>\n",
       "      <td>2010-12-01 11:45:00</td>\n",
       "      <td>1.25</td>\n",
       "      <td>17908.0</td>\n",
       "      <td>United Kingdom</td>\n",
       "      <td>Regular</td>\n",
       "      <td>2010-12-01</td>\n",
       "      <td>11:45:00</td>\n",
       "      <td>1.25</td>\n",
       "    </tr>\n",
       "    <tr>\n",
       "      <th>517</th>\n",
       "      <td>536409</td>\n",
       "      <td>21866</td>\n",
       "      <td>UNION JACK FLAG LUGGAGE TAG</td>\n",
       "      <td>1</td>\n",
       "      <td>2010-12-01 11:45:00</td>\n",
       "      <td>1.25</td>\n",
       "      <td>17908.0</td>\n",
       "      <td>United Kingdom</td>\n",
       "      <td>Regular</td>\n",
       "      <td>2010-12-01</td>\n",
       "      <td>11:45:00</td>\n",
       "      <td>1.25</td>\n",
       "    </tr>\n",
       "    <tr>\n",
       "      <th>521</th>\n",
       "      <td>536409</td>\n",
       "      <td>22900</td>\n",
       "      <td>SET 2 TEA TOWELS I LOVE LONDON</td>\n",
       "      <td>1</td>\n",
       "      <td>2010-12-01 11:45:00</td>\n",
       "      <td>2.95</td>\n",
       "      <td>17908.0</td>\n",
       "      <td>United Kingdom</td>\n",
       "      <td>Regular</td>\n",
       "      <td>2010-12-01</td>\n",
       "      <td>11:45:00</td>\n",
       "      <td>2.95</td>\n",
       "    </tr>\n",
       "  </tbody>\n",
       "</table>\n",
       "</div>"
      ],
      "text/plain": [
       "    InvoiceNo StockCode                       Description  Quantity  \\\n",
       "485    536409     22111      SCOTTIE DOG HOT WATER BOTTLE         1   \n",
       "489    536409     22866     HAND WARMER SCOTTY DOG DESIGN         1   \n",
       "494    536409     21866       UNION JACK FLAG LUGGAGE TAG         1   \n",
       "517    536409     21866       UNION JACK FLAG LUGGAGE TAG         1   \n",
       "521    536409     22900   SET 2 TEA TOWELS I LOVE LONDON          1   \n",
       "\n",
       "            InvoiceDate  UnitPrice  CustomerID         Country OrderType  \\\n",
       "485 2010-12-01 11:45:00       4.95     17908.0  United Kingdom   Regular   \n",
       "489 2010-12-01 11:45:00       2.10     17908.0  United Kingdom   Regular   \n",
       "494 2010-12-01 11:45:00       1.25     17908.0  United Kingdom   Regular   \n",
       "517 2010-12-01 11:45:00       1.25     17908.0  United Kingdom   Regular   \n",
       "521 2010-12-01 11:45:00       2.95     17908.0  United Kingdom   Regular   \n",
       "\n",
       "          Date      Time  Revenue  \n",
       "485 2010-12-01  11:45:00     4.95  \n",
       "489 2010-12-01  11:45:00     2.10  \n",
       "494 2010-12-01  11:45:00     1.25  \n",
       "517 2010-12-01  11:45:00     1.25  \n",
       "521 2010-12-01  11:45:00     2.95  "
      ]
     },
     "execution_count": 42,
     "metadata": {},
     "output_type": "execute_result"
    }
   ],
   "source": [
    "duplicates.head(5)"
   ]
  },
  {
   "cell_type": "code",
   "execution_count": 43,
   "id": "2a8ae90e-1cee-4040-b37d-fac47ad8c19a",
   "metadata": {},
   "outputs": [],
   "source": [
    "duplicates_sorted = duplicates.sort_values(by=['InvoiceNo','StockCode', 'Description', 'Quantity','InvoiceDate', 'UnitPrice','CustomerID', 'Country', 'OrderType','Date', 'Time', 'Revenue'])"
   ]
  },
  {
   "cell_type": "code",
   "execution_count": 44,
   "id": "fb593e94-9ccc-44e5-aa48-8fddd5710be7",
   "metadata": {},
   "outputs": [
    {
     "data": {
      "text/html": [
       "<div>\n",
       "<style scoped>\n",
       "    .dataframe tbody tr th:only-of-type {\n",
       "        vertical-align: middle;\n",
       "    }\n",
       "\n",
       "    .dataframe tbody tr th {\n",
       "        vertical-align: top;\n",
       "    }\n",
       "\n",
       "    .dataframe thead th {\n",
       "        text-align: right;\n",
       "    }\n",
       "</style>\n",
       "<table border=\"1\" class=\"dataframe\">\n",
       "  <thead>\n",
       "    <tr style=\"text-align: right;\">\n",
       "      <th></th>\n",
       "      <th>InvoiceNo</th>\n",
       "      <th>StockCode</th>\n",
       "      <th>Description</th>\n",
       "      <th>Quantity</th>\n",
       "      <th>InvoiceDate</th>\n",
       "      <th>UnitPrice</th>\n",
       "      <th>CustomerID</th>\n",
       "      <th>Country</th>\n",
       "      <th>OrderType</th>\n",
       "      <th>Date</th>\n",
       "      <th>Time</th>\n",
       "      <th>Revenue</th>\n",
       "    </tr>\n",
       "  </thead>\n",
       "  <tbody>\n",
       "    <tr>\n",
       "      <th>494</th>\n",
       "      <td>536409</td>\n",
       "      <td>21866</td>\n",
       "      <td>UNION JACK FLAG LUGGAGE TAG</td>\n",
       "      <td>1</td>\n",
       "      <td>2010-12-01 11:45:00</td>\n",
       "      <td>1.25</td>\n",
       "      <td>17908.0</td>\n",
       "      <td>United Kingdom</td>\n",
       "      <td>Regular</td>\n",
       "      <td>2010-12-01</td>\n",
       "      <td>11:45:00</td>\n",
       "      <td>1.25</td>\n",
       "    </tr>\n",
       "    <tr>\n",
       "      <th>517</th>\n",
       "      <td>536409</td>\n",
       "      <td>21866</td>\n",
       "      <td>UNION JACK FLAG LUGGAGE TAG</td>\n",
       "      <td>1</td>\n",
       "      <td>2010-12-01 11:45:00</td>\n",
       "      <td>1.25</td>\n",
       "      <td>17908.0</td>\n",
       "      <td>United Kingdom</td>\n",
       "      <td>Regular</td>\n",
       "      <td>2010-12-01</td>\n",
       "      <td>11:45:00</td>\n",
       "      <td>1.25</td>\n",
       "    </tr>\n",
       "    <tr>\n",
       "      <th>485</th>\n",
       "      <td>536409</td>\n",
       "      <td>22111</td>\n",
       "      <td>SCOTTIE DOG HOT WATER BOTTLE</td>\n",
       "      <td>1</td>\n",
       "      <td>2010-12-01 11:45:00</td>\n",
       "      <td>4.95</td>\n",
       "      <td>17908.0</td>\n",
       "      <td>United Kingdom</td>\n",
       "      <td>Regular</td>\n",
       "      <td>2010-12-01</td>\n",
       "      <td>11:45:00</td>\n",
       "      <td>4.95</td>\n",
       "    </tr>\n",
       "    <tr>\n",
       "      <th>539</th>\n",
       "      <td>536409</td>\n",
       "      <td>22111</td>\n",
       "      <td>SCOTTIE DOG HOT WATER BOTTLE</td>\n",
       "      <td>1</td>\n",
       "      <td>2010-12-01 11:45:00</td>\n",
       "      <td>4.95</td>\n",
       "      <td>17908.0</td>\n",
       "      <td>United Kingdom</td>\n",
       "      <td>Regular</td>\n",
       "      <td>2010-12-01</td>\n",
       "      <td>11:45:00</td>\n",
       "      <td>4.95</td>\n",
       "    </tr>\n",
       "    <tr>\n",
       "      <th>489</th>\n",
       "      <td>536409</td>\n",
       "      <td>22866</td>\n",
       "      <td>HAND WARMER SCOTTY DOG DESIGN</td>\n",
       "      <td>1</td>\n",
       "      <td>2010-12-01 11:45:00</td>\n",
       "      <td>2.10</td>\n",
       "      <td>17908.0</td>\n",
       "      <td>United Kingdom</td>\n",
       "      <td>Regular</td>\n",
       "      <td>2010-12-01</td>\n",
       "      <td>11:45:00</td>\n",
       "      <td>2.10</td>\n",
       "    </tr>\n",
       "  </tbody>\n",
       "</table>\n",
       "</div>"
      ],
      "text/plain": [
       "    InvoiceNo StockCode                    Description  Quantity  \\\n",
       "494    536409     21866    UNION JACK FLAG LUGGAGE TAG         1   \n",
       "517    536409     21866    UNION JACK FLAG LUGGAGE TAG         1   \n",
       "485    536409     22111   SCOTTIE DOG HOT WATER BOTTLE         1   \n",
       "539    536409     22111   SCOTTIE DOG HOT WATER BOTTLE         1   \n",
       "489    536409     22866  HAND WARMER SCOTTY DOG DESIGN         1   \n",
       "\n",
       "            InvoiceDate  UnitPrice  CustomerID         Country OrderType  \\\n",
       "494 2010-12-01 11:45:00       1.25     17908.0  United Kingdom   Regular   \n",
       "517 2010-12-01 11:45:00       1.25     17908.0  United Kingdom   Regular   \n",
       "485 2010-12-01 11:45:00       4.95     17908.0  United Kingdom   Regular   \n",
       "539 2010-12-01 11:45:00       4.95     17908.0  United Kingdom   Regular   \n",
       "489 2010-12-01 11:45:00       2.10     17908.0  United Kingdom   Regular   \n",
       "\n",
       "          Date      Time  Revenue  \n",
       "494 2010-12-01  11:45:00     1.25  \n",
       "517 2010-12-01  11:45:00     1.25  \n",
       "485 2010-12-01  11:45:00     4.95  \n",
       "539 2010-12-01  11:45:00     4.95  \n",
       "489 2010-12-01  11:45:00     2.10  "
      ]
     },
     "execution_count": 44,
     "metadata": {},
     "output_type": "execute_result"
    }
   ],
   "source": [
    "duplicates_sorted.head(5)"
   ]
  },
  {
   "cell_type": "code",
   "execution_count": 45,
   "id": "e3d58214-e7f6-44dd-a240-21bdaa85a867",
   "metadata": {},
   "outputs": [
    {
     "data": {
      "text/plain": [
       "(10139, 12)"
      ]
     },
     "execution_count": 45,
     "metadata": {},
     "output_type": "execute_result"
    }
   ],
   "source": [
    "duplicates_sorted.shape"
   ]
  },
  {
   "cell_type": "code",
   "execution_count": 46,
   "id": "59599855-1316-4cd3-a9ea-cd7a9e5576ed",
   "metadata": {},
   "outputs": [],
   "source": [
    "dff=df.drop_duplicates(keep='first')"
   ]
  },
  {
   "cell_type": "code",
   "execution_count": 47,
   "id": "ba19afe2-ecb2-4d8e-b720-488ab9773c69",
   "metadata": {},
   "outputs": [
    {
     "data": {
      "text/plain": [
       "(533916, 12)"
      ]
     },
     "execution_count": 47,
     "metadata": {},
     "output_type": "execute_result"
    }
   ],
   "source": [
    "dff.shape"
   ]
  },
  {
   "cell_type": "code",
   "execution_count": 48,
   "id": "7a33b3f8-88ef-4266-a74c-1a556857d0b4",
   "metadata": {},
   "outputs": [],
   "source": [
    "# here total rows in df = 539,178  \n",
    "# Total repeated rows = 10,139  (All duplicate occurrences counted, including first copies)  \n",
    "# Extracting unique entries...  \n",
    "# Total unique rows = 533,916  (Each duplicate appears only once as in now they are no more duplicate)  \n",
    "# Finding the real number of duplicate rows...  \n",
    "# Total dataset rows = 539,178  \n",
    "# After dropping duplicates, remaining rows = 533,916  \n",
    "# Rows removed = 539,178 - 533,916 = 5,262  \n",
    "# Real duplicate rows = Total repeated rows - Removed rows  \n",
    "#                     = 10,139 - 5,262 = 4,877  \n",
    "# Confirming: cross check Total rows - Real duplicate rows = 539,178 - 4,877 = 533,916  \n",
    "# This matches df.drop_duplicates(keep='first').shape so done!"
   ]
  },
  {
   "cell_type": "code",
   "execution_count": 49,
   "id": "bb3746a2-791b-4981-a1e8-a4f82382243d",
   "metadata": {},
   "outputs": [
    {
     "data": {
      "text/plain": [
       "(539178, 12)"
      ]
     },
     "execution_count": 49,
     "metadata": {},
     "output_type": "execute_result"
    }
   ],
   "source": [
    "df.shape"
   ]
  },
  {
   "cell_type": "code",
   "execution_count": 50,
   "id": "93c87aea-dae2-4e5a-a627-62d966c9af43",
   "metadata": {},
   "outputs": [
    {
     "data": {
      "text/html": [
       "<div>\n",
       "<style scoped>\n",
       "    .dataframe tbody tr th:only-of-type {\n",
       "        vertical-align: middle;\n",
       "    }\n",
       "\n",
       "    .dataframe tbody tr th {\n",
       "        vertical-align: top;\n",
       "    }\n",
       "\n",
       "    .dataframe thead th {\n",
       "        text-align: right;\n",
       "    }\n",
       "</style>\n",
       "<table border=\"1\" class=\"dataframe\">\n",
       "  <thead>\n",
       "    <tr style=\"text-align: right;\">\n",
       "      <th></th>\n",
       "      <th>InvoiceNo</th>\n",
       "      <th>StockCode</th>\n",
       "      <th>Description</th>\n",
       "      <th>Quantity</th>\n",
       "      <th>InvoiceDate</th>\n",
       "      <th>UnitPrice</th>\n",
       "      <th>CustomerID</th>\n",
       "      <th>Country</th>\n",
       "      <th>OrderType</th>\n",
       "      <th>Date</th>\n",
       "      <th>Time</th>\n",
       "      <th>Revenue</th>\n",
       "    </tr>\n",
       "  </thead>\n",
       "  <tbody>\n",
       "  </tbody>\n",
       "</table>\n",
       "</div>"
      ],
      "text/plain": [
       "Empty DataFrame\n",
       "Columns: [InvoiceNo, StockCode, Description, Quantity, InvoiceDate, UnitPrice, CustomerID, Country, OrderType, Date, Time, Revenue]\n",
       "Index: []"
      ]
     },
     "execution_count": 50,
     "metadata": {},
     "output_type": "execute_result"
    }
   ],
   "source": [
    "dff[dff.duplicated()]"
   ]
  },
  {
   "cell_type": "code",
   "execution_count": 51,
   "id": "1949ef6f-4c25-4f46-8b81-7283b5aaa7e4",
   "metadata": {},
   "outputs": [
    {
     "data": {
      "text/plain": [
       "0"
      ]
     },
     "execution_count": 51,
     "metadata": {},
     "output_type": "execute_result"
    }
   ],
   "source": [
    "dff.duplicated().sum()"
   ]
  },
  {
   "cell_type": "code",
   "execution_count": 52,
   "id": "b52d5d43-2027-4333-b6cc-b289b470e485",
   "metadata": {},
   "outputs": [],
   "source": [
    "#removed duplicate entries "
   ]
  },
  {
   "cell_type": "code",
   "execution_count": 53,
   "id": "754ddd6c-3e8f-4260-810e-bca26ece52d1",
   "metadata": {},
   "outputs": [
    {
     "data": {
      "text/plain": [
       "InvoiceNo           0\n",
       "StockCode           0\n",
       "Description      1449\n",
       "Quantity            0\n",
       "InvoiceDate         0\n",
       "UnitPrice           0\n",
       "CustomerID     134077\n",
       "Country             0\n",
       "OrderType           0\n",
       "Date                0\n",
       "Time                0\n",
       "Revenue             0\n",
       "dtype: int64"
      ]
     },
     "execution_count": 53,
     "metadata": {},
     "output_type": "execute_result"
    }
   ],
   "source": [
    "dff.isnull().sum()"
   ]
  },
  {
   "cell_type": "markdown",
   "id": "b0f1f922-ddfa-424f-a928-ade8398df45a",
   "metadata": {},
   "source": [
    "### CLEANING DATA"
   ]
  },
  {
   "cell_type": "code",
   "execution_count": 54,
   "id": "4383c6a2-b936-4b62-a0b5-667edbf33705",
   "metadata": {},
   "outputs": [
    {
     "data": {
      "text/html": [
       "<div>\n",
       "<style scoped>\n",
       "    .dataframe tbody tr th:only-of-type {\n",
       "        vertical-align: middle;\n",
       "    }\n",
       "\n",
       "    .dataframe tbody tr th {\n",
       "        vertical-align: top;\n",
       "    }\n",
       "\n",
       "    .dataframe thead th {\n",
       "        text-align: right;\n",
       "    }\n",
       "</style>\n",
       "<table border=\"1\" class=\"dataframe\">\n",
       "  <thead>\n",
       "    <tr style=\"text-align: right;\">\n",
       "      <th></th>\n",
       "      <th>InvoiceNo</th>\n",
       "      <th>StockCode</th>\n",
       "      <th>Description</th>\n",
       "      <th>Quantity</th>\n",
       "      <th>InvoiceDate</th>\n",
       "      <th>UnitPrice</th>\n",
       "      <th>CustomerID</th>\n",
       "      <th>Country</th>\n",
       "      <th>OrderType</th>\n",
       "      <th>Date</th>\n",
       "      <th>Time</th>\n",
       "      <th>Revenue</th>\n",
       "    </tr>\n",
       "  </thead>\n",
       "  <tbody>\n",
       "    <tr>\n",
       "      <th>2406</th>\n",
       "      <td>536589</td>\n",
       "      <td>21777</td>\n",
       "      <td>NaN</td>\n",
       "      <td>-10</td>\n",
       "      <td>2010-12-01 16:50:00</td>\n",
       "      <td>0.0</td>\n",
       "      <td>NaN</td>\n",
       "      <td>United Kingdom</td>\n",
       "      <td>Regular</td>\n",
       "      <td>2010-12-01</td>\n",
       "      <td>16:50:00</td>\n",
       "      <td>-0.0</td>\n",
       "    </tr>\n",
       "    <tr>\n",
       "      <th>4347</th>\n",
       "      <td>536764</td>\n",
       "      <td>84952C</td>\n",
       "      <td>NaN</td>\n",
       "      <td>-38</td>\n",
       "      <td>2010-12-02 14:42:00</td>\n",
       "      <td>0.0</td>\n",
       "      <td>NaN</td>\n",
       "      <td>United Kingdom</td>\n",
       "      <td>Regular</td>\n",
       "      <td>2010-12-02</td>\n",
       "      <td>14:42:00</td>\n",
       "      <td>-0.0</td>\n",
       "    </tr>\n",
       "    <tr>\n",
       "      <th>7188</th>\n",
       "      <td>536996</td>\n",
       "      <td>22712</td>\n",
       "      <td>NaN</td>\n",
       "      <td>-20</td>\n",
       "      <td>2010-12-03 15:30:00</td>\n",
       "      <td>0.0</td>\n",
       "      <td>NaN</td>\n",
       "      <td>United Kingdom</td>\n",
       "      <td>Regular</td>\n",
       "      <td>2010-12-03</td>\n",
       "      <td>15:30:00</td>\n",
       "      <td>-0.0</td>\n",
       "    </tr>\n",
       "    <tr>\n",
       "      <th>7189</th>\n",
       "      <td>536997</td>\n",
       "      <td>22028</td>\n",
       "      <td>NaN</td>\n",
       "      <td>-20</td>\n",
       "      <td>2010-12-03 15:30:00</td>\n",
       "      <td>0.0</td>\n",
       "      <td>NaN</td>\n",
       "      <td>United Kingdom</td>\n",
       "      <td>Regular</td>\n",
       "      <td>2010-12-03</td>\n",
       "      <td>15:30:00</td>\n",
       "      <td>-0.0</td>\n",
       "    </tr>\n",
       "    <tr>\n",
       "      <th>7190</th>\n",
       "      <td>536998</td>\n",
       "      <td>85067</td>\n",
       "      <td>NaN</td>\n",
       "      <td>-6</td>\n",
       "      <td>2010-12-03 15:30:00</td>\n",
       "      <td>0.0</td>\n",
       "      <td>NaN</td>\n",
       "      <td>United Kingdom</td>\n",
       "      <td>Regular</td>\n",
       "      <td>2010-12-03</td>\n",
       "      <td>15:30:00</td>\n",
       "      <td>-0.0</td>\n",
       "    </tr>\n",
       "    <tr>\n",
       "      <th>...</th>\n",
       "      <td>...</td>\n",
       "      <td>...</td>\n",
       "      <td>...</td>\n",
       "      <td>...</td>\n",
       "      <td>...</td>\n",
       "      <td>...</td>\n",
       "      <td>...</td>\n",
       "      <td>...</td>\n",
       "      <td>...</td>\n",
       "      <td>...</td>\n",
       "      <td>...</td>\n",
       "      <td>...</td>\n",
       "    </tr>\n",
       "    <tr>\n",
       "      <th>535333</th>\n",
       "      <td>581210</td>\n",
       "      <td>23395</td>\n",
       "      <td>check</td>\n",
       "      <td>-26</td>\n",
       "      <td>2011-12-07 18:36:00</td>\n",
       "      <td>0.0</td>\n",
       "      <td>NaN</td>\n",
       "      <td>United Kingdom</td>\n",
       "      <td>Regular</td>\n",
       "      <td>2011-12-07</td>\n",
       "      <td>18:36:00</td>\n",
       "      <td>-0.0</td>\n",
       "    </tr>\n",
       "    <tr>\n",
       "      <th>535335</th>\n",
       "      <td>581212</td>\n",
       "      <td>22578</td>\n",
       "      <td>lost</td>\n",
       "      <td>-1050</td>\n",
       "      <td>2011-12-07 18:38:00</td>\n",
       "      <td>0.0</td>\n",
       "      <td>NaN</td>\n",
       "      <td>United Kingdom</td>\n",
       "      <td>Regular</td>\n",
       "      <td>2011-12-07</td>\n",
       "      <td>18:38:00</td>\n",
       "      <td>-0.0</td>\n",
       "    </tr>\n",
       "    <tr>\n",
       "      <th>535336</th>\n",
       "      <td>581213</td>\n",
       "      <td>22576</td>\n",
       "      <td>check</td>\n",
       "      <td>-30</td>\n",
       "      <td>2011-12-07 18:38:00</td>\n",
       "      <td>0.0</td>\n",
       "      <td>NaN</td>\n",
       "      <td>United Kingdom</td>\n",
       "      <td>Regular</td>\n",
       "      <td>2011-12-07</td>\n",
       "      <td>18:38:00</td>\n",
       "      <td>-0.0</td>\n",
       "    </tr>\n",
       "    <tr>\n",
       "      <th>536908</th>\n",
       "      <td>581226</td>\n",
       "      <td>23090</td>\n",
       "      <td>missing</td>\n",
       "      <td>-338</td>\n",
       "      <td>2011-12-08 09:56:00</td>\n",
       "      <td>0.0</td>\n",
       "      <td>NaN</td>\n",
       "      <td>United Kingdom</td>\n",
       "      <td>Regular</td>\n",
       "      <td>2011-12-08</td>\n",
       "      <td>09:56:00</td>\n",
       "      <td>-0.0</td>\n",
       "    </tr>\n",
       "    <tr>\n",
       "      <th>538919</th>\n",
       "      <td>581422</td>\n",
       "      <td>23169</td>\n",
       "      <td>smashed</td>\n",
       "      <td>-235</td>\n",
       "      <td>2011-12-08 15:24:00</td>\n",
       "      <td>0.0</td>\n",
       "      <td>NaN</td>\n",
       "      <td>United Kingdom</td>\n",
       "      <td>Regular</td>\n",
       "      <td>2011-12-08</td>\n",
       "      <td>15:24:00</td>\n",
       "      <td>-0.0</td>\n",
       "    </tr>\n",
       "  </tbody>\n",
       "</table>\n",
       "<p>1336 rows × 12 columns</p>\n",
       "</div>"
      ],
      "text/plain": [
       "       InvoiceNo StockCode Description  Quantity         InvoiceDate  \\\n",
       "2406      536589     21777         NaN       -10 2010-12-01 16:50:00   \n",
       "4347      536764    84952C         NaN       -38 2010-12-02 14:42:00   \n",
       "7188      536996     22712         NaN       -20 2010-12-03 15:30:00   \n",
       "7189      536997     22028         NaN       -20 2010-12-03 15:30:00   \n",
       "7190      536998     85067         NaN        -6 2010-12-03 15:30:00   \n",
       "...          ...       ...         ...       ...                 ...   \n",
       "535333    581210     23395       check       -26 2011-12-07 18:36:00   \n",
       "535335    581212     22578        lost     -1050 2011-12-07 18:38:00   \n",
       "535336    581213     22576       check       -30 2011-12-07 18:38:00   \n",
       "536908    581226     23090     missing      -338 2011-12-08 09:56:00   \n",
       "538919    581422     23169     smashed      -235 2011-12-08 15:24:00   \n",
       "\n",
       "        UnitPrice  CustomerID         Country OrderType       Date      Time  \\\n",
       "2406          0.0         NaN  United Kingdom   Regular 2010-12-01  16:50:00   \n",
       "4347          0.0         NaN  United Kingdom   Regular 2010-12-02  14:42:00   \n",
       "7188          0.0         NaN  United Kingdom   Regular 2010-12-03  15:30:00   \n",
       "7189          0.0         NaN  United Kingdom   Regular 2010-12-03  15:30:00   \n",
       "7190          0.0         NaN  United Kingdom   Regular 2010-12-03  15:30:00   \n",
       "...           ...         ...             ...       ...        ...       ...   \n",
       "535333        0.0         NaN  United Kingdom   Regular 2011-12-07  18:36:00   \n",
       "535335        0.0         NaN  United Kingdom   Regular 2011-12-07  18:38:00   \n",
       "535336        0.0         NaN  United Kingdom   Regular 2011-12-07  18:38:00   \n",
       "536908        0.0         NaN  United Kingdom   Regular 2011-12-08  09:56:00   \n",
       "538919        0.0         NaN  United Kingdom   Regular 2011-12-08  15:24:00   \n",
       "\n",
       "        Revenue  \n",
       "2406       -0.0  \n",
       "4347       -0.0  \n",
       "7188       -0.0  \n",
       "7189       -0.0  \n",
       "7190       -0.0  \n",
       "...         ...  \n",
       "535333     -0.0  \n",
       "535335     -0.0  \n",
       "535336     -0.0  \n",
       "536908     -0.0  \n",
       "538919     -0.0  \n",
       "\n",
       "[1336 rows x 12 columns]"
      ]
     },
     "execution_count": 54,
     "metadata": {},
     "output_type": "execute_result"
    }
   ],
   "source": [
    "dff[(dff['Quantity']<0) & (dff['UnitPrice']==0)]"
   ]
  },
  {
   "cell_type": "code",
   "execution_count": 55,
   "id": "6f13dd5e-9e0d-4137-ba25-7be892bebf50",
   "metadata": {},
   "outputs": [],
   "source": [
    "check = dff[(dff['Quantity']<0) & (dff['OrderType']=='Regular')]"
   ]
  },
  {
   "cell_type": "code",
   "execution_count": 56,
   "id": "c5fee985-d523-453f-a274-c85d259760c4",
   "metadata": {},
   "outputs": [
    {
     "data": {
      "text/html": [
       "<div>\n",
       "<style scoped>\n",
       "    .dataframe tbody tr th:only-of-type {\n",
       "        vertical-align: middle;\n",
       "    }\n",
       "\n",
       "    .dataframe tbody tr th {\n",
       "        vertical-align: top;\n",
       "    }\n",
       "\n",
       "    .dataframe thead th {\n",
       "        text-align: right;\n",
       "    }\n",
       "</style>\n",
       "<table border=\"1\" class=\"dataframe\">\n",
       "  <thead>\n",
       "    <tr style=\"text-align: right;\">\n",
       "      <th></th>\n",
       "      <th>InvoiceNo</th>\n",
       "      <th>StockCode</th>\n",
       "      <th>Description</th>\n",
       "      <th>Quantity</th>\n",
       "      <th>InvoiceDate</th>\n",
       "      <th>UnitPrice</th>\n",
       "      <th>CustomerID</th>\n",
       "      <th>Country</th>\n",
       "      <th>OrderType</th>\n",
       "      <th>Date</th>\n",
       "      <th>Time</th>\n",
       "      <th>Revenue</th>\n",
       "    </tr>\n",
       "  </thead>\n",
       "  <tbody>\n",
       "    <tr>\n",
       "      <th>2406</th>\n",
       "      <td>536589</td>\n",
       "      <td>21777</td>\n",
       "      <td>NaN</td>\n",
       "      <td>-10</td>\n",
       "      <td>2010-12-01 16:50:00</td>\n",
       "      <td>0.0</td>\n",
       "      <td>NaN</td>\n",
       "      <td>United Kingdom</td>\n",
       "      <td>Regular</td>\n",
       "      <td>2010-12-01</td>\n",
       "      <td>16:50:00</td>\n",
       "      <td>-0.0</td>\n",
       "    </tr>\n",
       "    <tr>\n",
       "      <th>4347</th>\n",
       "      <td>536764</td>\n",
       "      <td>84952C</td>\n",
       "      <td>NaN</td>\n",
       "      <td>-38</td>\n",
       "      <td>2010-12-02 14:42:00</td>\n",
       "      <td>0.0</td>\n",
       "      <td>NaN</td>\n",
       "      <td>United Kingdom</td>\n",
       "      <td>Regular</td>\n",
       "      <td>2010-12-02</td>\n",
       "      <td>14:42:00</td>\n",
       "      <td>-0.0</td>\n",
       "    </tr>\n",
       "    <tr>\n",
       "      <th>7188</th>\n",
       "      <td>536996</td>\n",
       "      <td>22712</td>\n",
       "      <td>NaN</td>\n",
       "      <td>-20</td>\n",
       "      <td>2010-12-03 15:30:00</td>\n",
       "      <td>0.0</td>\n",
       "      <td>NaN</td>\n",
       "      <td>United Kingdom</td>\n",
       "      <td>Regular</td>\n",
       "      <td>2010-12-03</td>\n",
       "      <td>15:30:00</td>\n",
       "      <td>-0.0</td>\n",
       "    </tr>\n",
       "    <tr>\n",
       "      <th>7189</th>\n",
       "      <td>536997</td>\n",
       "      <td>22028</td>\n",
       "      <td>NaN</td>\n",
       "      <td>-20</td>\n",
       "      <td>2010-12-03 15:30:00</td>\n",
       "      <td>0.0</td>\n",
       "      <td>NaN</td>\n",
       "      <td>United Kingdom</td>\n",
       "      <td>Regular</td>\n",
       "      <td>2010-12-03</td>\n",
       "      <td>15:30:00</td>\n",
       "      <td>-0.0</td>\n",
       "    </tr>\n",
       "    <tr>\n",
       "      <th>7190</th>\n",
       "      <td>536998</td>\n",
       "      <td>85067</td>\n",
       "      <td>NaN</td>\n",
       "      <td>-6</td>\n",
       "      <td>2010-12-03 15:30:00</td>\n",
       "      <td>0.0</td>\n",
       "      <td>NaN</td>\n",
       "      <td>United Kingdom</td>\n",
       "      <td>Regular</td>\n",
       "      <td>2010-12-03</td>\n",
       "      <td>15:30:00</td>\n",
       "      <td>-0.0</td>\n",
       "    </tr>\n",
       "    <tr>\n",
       "      <th>...</th>\n",
       "      <td>...</td>\n",
       "      <td>...</td>\n",
       "      <td>...</td>\n",
       "      <td>...</td>\n",
       "      <td>...</td>\n",
       "      <td>...</td>\n",
       "      <td>...</td>\n",
       "      <td>...</td>\n",
       "      <td>...</td>\n",
       "      <td>...</td>\n",
       "      <td>...</td>\n",
       "      <td>...</td>\n",
       "    </tr>\n",
       "    <tr>\n",
       "      <th>535333</th>\n",
       "      <td>581210</td>\n",
       "      <td>23395</td>\n",
       "      <td>check</td>\n",
       "      <td>-26</td>\n",
       "      <td>2011-12-07 18:36:00</td>\n",
       "      <td>0.0</td>\n",
       "      <td>NaN</td>\n",
       "      <td>United Kingdom</td>\n",
       "      <td>Regular</td>\n",
       "      <td>2011-12-07</td>\n",
       "      <td>18:36:00</td>\n",
       "      <td>-0.0</td>\n",
       "    </tr>\n",
       "    <tr>\n",
       "      <th>535335</th>\n",
       "      <td>581212</td>\n",
       "      <td>22578</td>\n",
       "      <td>lost</td>\n",
       "      <td>-1050</td>\n",
       "      <td>2011-12-07 18:38:00</td>\n",
       "      <td>0.0</td>\n",
       "      <td>NaN</td>\n",
       "      <td>United Kingdom</td>\n",
       "      <td>Regular</td>\n",
       "      <td>2011-12-07</td>\n",
       "      <td>18:38:00</td>\n",
       "      <td>-0.0</td>\n",
       "    </tr>\n",
       "    <tr>\n",
       "      <th>535336</th>\n",
       "      <td>581213</td>\n",
       "      <td>22576</td>\n",
       "      <td>check</td>\n",
       "      <td>-30</td>\n",
       "      <td>2011-12-07 18:38:00</td>\n",
       "      <td>0.0</td>\n",
       "      <td>NaN</td>\n",
       "      <td>United Kingdom</td>\n",
       "      <td>Regular</td>\n",
       "      <td>2011-12-07</td>\n",
       "      <td>18:38:00</td>\n",
       "      <td>-0.0</td>\n",
       "    </tr>\n",
       "    <tr>\n",
       "      <th>536908</th>\n",
       "      <td>581226</td>\n",
       "      <td>23090</td>\n",
       "      <td>missing</td>\n",
       "      <td>-338</td>\n",
       "      <td>2011-12-08 09:56:00</td>\n",
       "      <td>0.0</td>\n",
       "      <td>NaN</td>\n",
       "      <td>United Kingdom</td>\n",
       "      <td>Regular</td>\n",
       "      <td>2011-12-08</td>\n",
       "      <td>09:56:00</td>\n",
       "      <td>-0.0</td>\n",
       "    </tr>\n",
       "    <tr>\n",
       "      <th>538919</th>\n",
       "      <td>581422</td>\n",
       "      <td>23169</td>\n",
       "      <td>smashed</td>\n",
       "      <td>-235</td>\n",
       "      <td>2011-12-08 15:24:00</td>\n",
       "      <td>0.0</td>\n",
       "      <td>NaN</td>\n",
       "      <td>United Kingdom</td>\n",
       "      <td>Regular</td>\n",
       "      <td>2011-12-08</td>\n",
       "      <td>15:24:00</td>\n",
       "      <td>-0.0</td>\n",
       "    </tr>\n",
       "  </tbody>\n",
       "</table>\n",
       "<p>1336 rows × 12 columns</p>\n",
       "</div>"
      ],
      "text/plain": [
       "       InvoiceNo StockCode Description  Quantity         InvoiceDate  \\\n",
       "2406      536589     21777         NaN       -10 2010-12-01 16:50:00   \n",
       "4347      536764    84952C         NaN       -38 2010-12-02 14:42:00   \n",
       "7188      536996     22712         NaN       -20 2010-12-03 15:30:00   \n",
       "7189      536997     22028         NaN       -20 2010-12-03 15:30:00   \n",
       "7190      536998     85067         NaN        -6 2010-12-03 15:30:00   \n",
       "...          ...       ...         ...       ...                 ...   \n",
       "535333    581210     23395       check       -26 2011-12-07 18:36:00   \n",
       "535335    581212     22578        lost     -1050 2011-12-07 18:38:00   \n",
       "535336    581213     22576       check       -30 2011-12-07 18:38:00   \n",
       "536908    581226     23090     missing      -338 2011-12-08 09:56:00   \n",
       "538919    581422     23169     smashed      -235 2011-12-08 15:24:00   \n",
       "\n",
       "        UnitPrice  CustomerID         Country OrderType       Date      Time  \\\n",
       "2406          0.0         NaN  United Kingdom   Regular 2010-12-01  16:50:00   \n",
       "4347          0.0         NaN  United Kingdom   Regular 2010-12-02  14:42:00   \n",
       "7188          0.0         NaN  United Kingdom   Regular 2010-12-03  15:30:00   \n",
       "7189          0.0         NaN  United Kingdom   Regular 2010-12-03  15:30:00   \n",
       "7190          0.0         NaN  United Kingdom   Regular 2010-12-03  15:30:00   \n",
       "...           ...         ...             ...       ...        ...       ...   \n",
       "535333        0.0         NaN  United Kingdom   Regular 2011-12-07  18:36:00   \n",
       "535335        0.0         NaN  United Kingdom   Regular 2011-12-07  18:38:00   \n",
       "535336        0.0         NaN  United Kingdom   Regular 2011-12-07  18:38:00   \n",
       "536908        0.0         NaN  United Kingdom   Regular 2011-12-08  09:56:00   \n",
       "538919        0.0         NaN  United Kingdom   Regular 2011-12-08  15:24:00   \n",
       "\n",
       "        Revenue  \n",
       "2406       -0.0  \n",
       "4347       -0.0  \n",
       "7188       -0.0  \n",
       "7189       -0.0  \n",
       "7190       -0.0  \n",
       "...         ...  \n",
       "535333     -0.0  \n",
       "535335     -0.0  \n",
       "535336     -0.0  \n",
       "536908     -0.0  \n",
       "538919     -0.0  \n",
       "\n",
       "[1336 rows x 12 columns]"
      ]
     },
     "execution_count": 56,
     "metadata": {},
     "output_type": "execute_result"
    }
   ],
   "source": [
    "check"
   ]
  },
  {
   "cell_type": "code",
   "execution_count": 57,
   "id": "e30e70d7-7f8d-4653-9272-c65036b1569d",
   "metadata": {},
   "outputs": [
    {
     "data": {
      "text/plain": [
       "array([nan, '?', 'check', 'damages', 'faulty', 'Dotcom sales',\n",
       "       'reverse 21/5/10 adjustment', 'mouldy, thrown away.', 'counted',\n",
       "       'Given away', 'Dotcom', 'label mix up', 'samples/damages',\n",
       "       'thrown away', 'incorrectly made-thrown away.', 'showroom', 'MIA',\n",
       "       'Dotcom set', 'wrongly sold as sets', 'Amazon sold sets',\n",
       "       'dotcom sold sets', 'wrongly sold sets', '? sold as sets?',\n",
       "       '?sold as sets?', 'Thrown away.', 'damages/display',\n",
       "       'damaged stock', 'broken', 'throw away', 'wrong barcode (22467)',\n",
       "       'wrong barcode', 'barcode problem', '?lost',\n",
       "       \"thrown away-can't sell.\", \"thrown away-can't sell\", 'damages?',\n",
       "       're dotcom quick fix.', \"Dotcom sold in 6's\", 'sold in set?',\n",
       "       'cracked', 'sold as 22467', 'Damaged',\n",
       "       'mystery! Only ever imported 1800',\n",
       "       'MERCHANT CHANDLER CREDIT ERROR, STO', 'POSSIBLE DAMAGES OR LOST?',\n",
       "       'damaged', 'DAMAGED', 'Display', 'Missing', 'wrong code?',\n",
       "       'wrong code', 'adjust', 'crushed', 'damages/showroom etc',\n",
       "       'samples', 'damages/credits from ASOS.',\n",
       "       'Not rcvd in 10/11/2010 delivery', 'Thrown away-rusty',\n",
       "       'sold as set/6 by dotcom', 'wet/rusty', 'damages/dotcom?',\n",
       "       'smashed', 'reverse previous adjustment',\n",
       "       'incorrectly credited C550456 see 47', 'wet damaged',\n",
       "       'Water damaged', 'missing', 'sold as set on dotcom',\n",
       "       'sold as set on dotcom and amazon', 'water damage',\n",
       "       'sold as set by dotcom', 'Printing smudges/thrown away',\n",
       "       'printing smudges/thrown away', 'found some more on shelf',\n",
       "       'Show Samples', 'mix up with c', 'mouldy, unsaleable.',\n",
       "       'wrongly marked. 23343 in box', 'stock creditted wrongly', 'ebay',\n",
       "       'incorrectly put back into stock', 'Damages/samples',\n",
       "       'Sold as 1 on dotcom', 'taig adjust no stock',\n",
       "       'code mix up? 84930', '?display?', 'sold as 1', '?missing',\n",
       "       'crushed ctn', 'Crushed', 'temp adjustment', '??', 'test',\n",
       "       'OOPS ! adjustment', 'Dagamed',\n",
       "       'historic computer difference?....se', 'Incorrect stock entry.',\n",
       "       'incorrect stock entry.', 'wrongly coded-23343', 'stock check',\n",
       "       'crushed boxes', 'WET/MOULDY', \"can't find\", 'mouldy',\n",
       "       'Wet pallet-thrown away', 'adjustment', '20713 wrongly marked',\n",
       "       're-adjustment', 'Breakages', '20713', 'wrongly coded 20713',\n",
       "       'Damages', 'CHECK', 'Unsaleable, destroyed.', 'dotcom sales',\n",
       "       'damages wax', 'water damaged', 'Wrongly mrked had 85123a in box',\n",
       "       'wrongly marked carton 22804', 'missing?', 'wet rusty', '???lost',\n",
       "       'sold with wrong barcode', 'rusty thrown away', 'rusty throw away',\n",
       "       'dotcom', '?? missing', 'wet pallet', '????missing', '???missing',\n",
       "       'lost in space', 'wet?', 'lost??', '???', 'wet', 'wet boxes',\n",
       "       '????damages????', 'mixed up', 'lost'], dtype=object)"
      ]
     },
     "execution_count": 57,
     "metadata": {},
     "output_type": "execute_result"
    }
   ],
   "source": [
    "check['Description'].unique()"
   ]
  },
  {
   "cell_type": "code",
   "execution_count": 58,
   "id": "9cf8b684-b588-4dee-977e-087bcefe6c03",
   "metadata": {},
   "outputs": [],
   "source": [
    "#In general the entries with neagtive quantities were cancelled but here we can see entries\n",
    "#with negative quantities + regular+ No CustomerID & No UnitPrice also\n",
    "#as seen above most of the data is either lost, faulty,damaged or incorrect thus dropping these would be better."
   ]
  },
  {
   "cell_type": "code",
   "execution_count": 59,
   "id": "285a2867-8e8e-4444-aa19-890ead41e272",
   "metadata": {},
   "outputs": [
    {
     "data": {
      "text/plain": [
       "array([nan])"
      ]
     },
     "execution_count": 59,
     "metadata": {},
     "output_type": "execute_result"
    }
   ],
   "source": [
    "check['CustomerID'].unique()"
   ]
  },
  {
   "cell_type": "code",
   "execution_count": 60,
   "id": "20079aa6-533b-4f49-be45-c9ed90ab4252",
   "metadata": {},
   "outputs": [],
   "source": [
    "dff = dff[~((dff['Quantity']<0) & (dff['OrderType']=='Regular'))] #dropping the check data"
   ]
  },
  {
   "cell_type": "code",
   "execution_count": 61,
   "id": "8bbb1543-545e-4415-84c2-7067e77961c3",
   "metadata": {},
   "outputs": [
    {
     "data": {
      "text/plain": [
       "InvoiceNo           0\n",
       "StockCode           0\n",
       "Description       587\n",
       "Quantity            0\n",
       "InvoiceDate         0\n",
       "UnitPrice           0\n",
       "CustomerID     132741\n",
       "Country             0\n",
       "OrderType           0\n",
       "Date                0\n",
       "Time                0\n",
       "Revenue             0\n",
       "dtype: int64"
      ]
     },
     "execution_count": 61,
     "metadata": {},
     "output_type": "execute_result"
    }
   ],
   "source": [
    "dff.isnull().sum()"
   ]
  },
  {
   "cell_type": "code",
   "execution_count": 62,
   "id": "45c7bf10-94bf-448d-bd3e-101c341d9093",
   "metadata": {},
   "outputs": [],
   "source": [
    "pd.set_option('display.max_columns', None)  # Show all columns\n",
    "pd.set_option('display.width', 50)      \n",
    "pd.set_option('display.max_rows', 50)  "
   ]
  },
  {
   "cell_type": "markdown",
   "id": "0958dd75-72df-4955-b69f-5e1f67b3401e",
   "metadata": {},
   "source": [
    "### FINDINGS"
   ]
  },
  {
   "cell_type": "code",
   "execution_count": 64,
   "id": "2db21870-ada4-45b5-b3c2-77b7f81d8bec",
   "metadata": {},
   "outputs": [],
   "source": [
    "#findings \n",
    "# a lot of NaN values in CustomerID but these rows have valid info in the remaining columns thus nan can be replaced by not found\n",
    "\n",
    "\n",
    "#the rows where BOTH Description and CustomerID are Nan, it's UnitPrice is also 0 thus it seems wrong and not useful for our analysis so\n",
    "#DROPPING ALL WHERE BOTH ARE NaN\n",
    "# one row has ? in descp and nan in custid and 0 as unitprice thus drop\n",
    "\n",
    "\n",
    "#where  only CustomerID is Nan there is some worth/price in the UnitPrice and also Description is present so not dropping\n",
    "#thus indicating only missing data in customerID and it is a legit purchase so keeping them and replacing Nan with Not Found would solve the problem.\n",
    "\n",
    "#also rows with UnitPrice as 0 doesnt make sense\n",
    "#BUT some rows have UnitPrice 0  & CustomerID Nan + no problem in remaining cols thus MAYBE FREE? AS THEY ARE REGULAR ORDERS!\n",
    "\n",
    "#Some rows have NEGATIVE Quantity + VALID UnitPrice + CANCELLED AND DESCRIPTION IS (BANK CHARGES,  SAMPLES, MANUAL) just custid is nan\n",
    "#could be refunds \n",
    "#NEGATIVES ARE CANCELLED ORDERS "
   ]
  },
  {
   "cell_type": "code",
   "execution_count": 65,
   "id": "44ff09f4-404b-4ed2-830d-ca2e7a97b19b",
   "metadata": {},
   "outputs": [
    {
     "data": {
      "text/plain": [
       "InvoiceNo           0\n",
       "StockCode           0\n",
       "Description       587\n",
       "Quantity            0\n",
       "InvoiceDate         0\n",
       "UnitPrice           0\n",
       "CustomerID     132741\n",
       "Country             0\n",
       "OrderType           0\n",
       "Date                0\n",
       "Time                0\n",
       "Revenue             0\n",
       "dtype: int64"
      ]
     },
     "execution_count": 65,
     "metadata": {},
     "output_type": "execute_result"
    }
   ],
   "source": [
    "dff.isnull().sum()"
   ]
  },
  {
   "cell_type": "code",
   "execution_count": 66,
   "id": "df167d37-ec05-4f8a-b603-ab2a6e3ae1d7",
   "metadata": {},
   "outputs": [
    {
     "data": {
      "text/plain": [
       "(532580, 12)"
      ]
     },
     "execution_count": 66,
     "metadata": {},
     "output_type": "execute_result"
    }
   ],
   "source": [
    "dff.shape"
   ]
  },
  {
   "cell_type": "code",
   "execution_count": 67,
   "id": "13ed8c61-b254-4bd5-8c4a-a2df9834ba67",
   "metadata": {},
   "outputs": [],
   "source": [
    "rows_with_nan_in_both = dff[dff['Description'].isna() & dff['CustomerID'].isna()]"
   ]
  },
  {
   "cell_type": "code",
   "execution_count": 68,
   "id": "286b7299-e424-4fb6-a2b9-d0f2665b74a0",
   "metadata": {},
   "outputs": [
    {
     "name": "stdout",
     "output_type": "stream",
     "text": [
      "       InvoiceNo StockCode Description  \\\n",
      "622       536414     22139         NaN   \n",
      "1970      536545     21134         NaN   \n",
      "1971      536546     22145         NaN   \n",
      "1972      536547     37509         NaN   \n",
      "1987      536549    85226A         NaN   \n",
      "...          ...       ...         ...   \n",
      "533712    581103     22689         NaN   \n",
      "535326    581203     23406         NaN   \n",
      "535332    581209     21620         NaN   \n",
      "536981    581234     72817         NaN   \n",
      "538554    581408     85175         NaN   \n",
      "\n",
      "        Quantity         InvoiceDate  UnitPrice  \\\n",
      "622           56 2010-12-01 11:52:00        0.0   \n",
      "1970           1 2010-12-01 14:32:00        0.0   \n",
      "1971           1 2010-12-01 14:33:00        0.0   \n",
      "1972           1 2010-12-01 14:33:00        0.0   \n",
      "1987           1 2010-12-01 14:34:00        0.0   \n",
      "...          ...                 ...        ...   \n",
      "533712         4 2011-12-07 11:58:00        0.0   \n",
      "535326        15 2011-12-07 18:31:00        0.0   \n",
      "535332         6 2011-12-07 18:35:00        0.0   \n",
      "536981        27 2011-12-08 10:33:00        0.0   \n",
      "538554        20 2011-12-08 14:06:00        0.0   \n",
      "\n",
      "        CustomerID         Country OrderType  \\\n",
      "622            NaN  United Kingdom   Regular   \n",
      "1970           NaN  United Kingdom   Regular   \n",
      "1971           NaN  United Kingdom   Regular   \n",
      "1972           NaN  United Kingdom   Regular   \n",
      "1987           NaN  United Kingdom   Regular   \n",
      "...            ...             ...       ...   \n",
      "533712         NaN  United Kingdom   Regular   \n",
      "535326         NaN  United Kingdom   Regular   \n",
      "535332         NaN  United Kingdom   Regular   \n",
      "536981         NaN  United Kingdom   Regular   \n",
      "538554         NaN  United Kingdom   Regular   \n",
      "\n",
      "             Date      Time  Revenue  \n",
      "622    2010-12-01  11:52:00      0.0  \n",
      "1970   2010-12-01  14:32:00      0.0  \n",
      "1971   2010-12-01  14:33:00      0.0  \n",
      "1972   2010-12-01  14:33:00      0.0  \n",
      "1987   2010-12-01  14:34:00      0.0  \n",
      "...           ...       ...      ...  \n",
      "533712 2011-12-07  11:58:00      0.0  \n",
      "535326 2011-12-07  18:31:00      0.0  \n",
      "535332 2011-12-07  18:35:00      0.0  \n",
      "536981 2011-12-08  10:33:00      0.0  \n",
      "538554 2011-12-08  14:06:00      0.0  \n",
      "\n",
      "[587 rows x 12 columns]\n"
     ]
    }
   ],
   "source": [
    "print(rows_with_nan_in_both)"
   ]
  },
  {
   "cell_type": "code",
   "execution_count": 69,
   "id": "08b9e467-b702-49f0-9662-868870c823b0",
   "metadata": {},
   "outputs": [],
   "source": [
    "dffcleaned = dff.dropna(subset=['Description', 'CustomerID'], how='all')"
   ]
  },
  {
   "cell_type": "code",
   "execution_count": 70,
   "id": "5b9fb434-7c16-404a-97b7-f1f61a9ebb2f",
   "metadata": {},
   "outputs": [
    {
     "data": {
      "text/plain": [
       "(531993, 12)"
      ]
     },
     "execution_count": 70,
     "metadata": {},
     "output_type": "execute_result"
    }
   ],
   "source": [
    "dffcleaned.shape #532580-587= 531993"
   ]
  },
  {
   "cell_type": "code",
   "execution_count": 71,
   "id": "7da0f0d2-4962-459d-8236-b1ab1504ed7a",
   "metadata": {},
   "outputs": [
    {
     "data": {
      "text/plain": [
       "InvoiceNo           0\n",
       "StockCode           0\n",
       "Description         0\n",
       "Quantity            0\n",
       "InvoiceDate         0\n",
       "UnitPrice           0\n",
       "CustomerID     132154\n",
       "Country             0\n",
       "OrderType           0\n",
       "Date                0\n",
       "Time                0\n",
       "Revenue             0\n",
       "dtype: int64"
      ]
     },
     "execution_count": 71,
     "metadata": {},
     "output_type": "execute_result"
    }
   ],
   "source": [
    "dffcleaned.isnull().sum()"
   ]
  },
  {
   "cell_type": "code",
   "execution_count": 72,
   "id": "71d6f7dc-f3c7-4793-be91-2b4bc8a62f06",
   "metadata": {},
   "outputs": [
    {
     "name": "stderr",
     "output_type": "stream",
     "text": [
      "C:\\Users\\91935\\AppData\\Local\\Temp\\ipykernel_5676\\226052747.py:1: SettingWithCopyWarning: \n",
      "A value is trying to be set on a copy of a slice from a DataFrame.\n",
      "Try using .loc[row_indexer,col_indexer] = value instead\n",
      "\n",
      "See the caveats in the documentation: https://pandas.pydata.org/pandas-docs/stable/user_guide/indexing.html#returning-a-view-versus-a-copy\n",
      "  dffcleaned['CustomerID'] = dffcleaned['CustomerID'].fillna('Not Found')\n"
     ]
    }
   ],
   "source": [
    "dffcleaned['CustomerID'] = dffcleaned['CustomerID'].fillna('Not Found')"
   ]
  },
  {
   "cell_type": "code",
   "execution_count": 73,
   "id": "d1e43629-9d53-4ce2-9a25-65cb57d503a4",
   "metadata": {},
   "outputs": [
    {
     "data": {
      "text/plain": [
       "InvoiceNo      0\n",
       "StockCode      0\n",
       "Description    0\n",
       "Quantity       0\n",
       "InvoiceDate    0\n",
       "UnitPrice      0\n",
       "CustomerID     0\n",
       "Country        0\n",
       "OrderType      0\n",
       "Date           0\n",
       "Time           0\n",
       "Revenue        0\n",
       "dtype: int64"
      ]
     },
     "execution_count": 73,
     "metadata": {},
     "output_type": "execute_result"
    }
   ],
   "source": [
    "dffcleaned.isnull().sum()"
   ]
  },
  {
   "cell_type": "markdown",
   "id": "7519c747-5de5-470c-a0b2-7fd1c0cce7c7",
   "metadata": {},
   "source": [
    "### DONE WITH DATA CLEANING!"
   ]
  },
  {
   "cell_type": "code",
   "execution_count": 74,
   "id": "e2912f83-c833-4a2d-9990-8ba1297c7f74",
   "metadata": {},
   "outputs": [
    {
     "data": {
      "text/plain": [
       "(531993, 12)"
      ]
     },
     "execution_count": 74,
     "metadata": {},
     "output_type": "execute_result"
    }
   ],
   "source": [
    "dffcleaned.shape"
   ]
  },
  {
   "cell_type": "code",
   "execution_count": 75,
   "id": "4eb2dc2f-fe50-497e-9dc6-e10747e0fc45",
   "metadata": {},
   "outputs": [
    {
     "data": {
      "text/plain": [
       "0"
      ]
     },
     "execution_count": 75,
     "metadata": {},
     "output_type": "execute_result"
    }
   ],
   "source": [
    "dffcleaned.duplicated().sum()"
   ]
  },
  {
   "cell_type": "code",
   "execution_count": 76,
   "id": "882c08ff-a50a-4695-9d0d-0b7d4849a31d",
   "metadata": {},
   "outputs": [
    {
     "name": "stdout",
     "output_type": "stream",
     "text": [
      "<class 'pandas.core.frame.DataFrame'>\n",
      "Index: 531993 entries, 0 to 541908\n",
      "Data columns (total 12 columns):\n",
      " #   Column       Non-Null Count   Dtype         \n",
      "---  ------       --------------   -----         \n",
      " 0   InvoiceNo    531993 non-null  object        \n",
      " 1   StockCode    531993 non-null  object        \n",
      " 2   Description  531993 non-null  object        \n",
      " 3   Quantity     531993 non-null  int64         \n",
      " 4   InvoiceDate  531993 non-null  datetime64[ns]\n",
      " 5   UnitPrice    531993 non-null  float64       \n",
      " 6   CustomerID   531993 non-null  object        \n",
      " 7   Country      531993 non-null  object        \n",
      " 8   OrderType    531993 non-null  object        \n",
      " 9   Date         531993 non-null  datetime64[ns]\n",
      " 10  Time         531993 non-null  object        \n",
      " 11  Revenue      531993 non-null  float64       \n",
      "dtypes: datetime64[ns](2), float64(2), int64(1), object(7)\n",
      "memory usage: 52.8+ MB\n"
     ]
    }
   ],
   "source": [
    "dffcleaned.info()"
   ]
  },
  {
   "cell_type": "code",
   "execution_count": 77,
   "id": "e273cb08-807d-4c56-84c2-5573728f0a12",
   "metadata": {},
   "outputs": [
    {
     "name": "stderr",
     "output_type": "stream",
     "text": [
      "C:\\Users\\91935\\AppData\\Local\\Temp\\ipykernel_5676\\1143392874.py:1: SettingWithCopyWarning: \n",
      "A value is trying to be set on a copy of a slice from a DataFrame.\n",
      "Try using .loc[row_indexer,col_indexer] = value instead\n",
      "\n",
      "See the caveats in the documentation: https://pandas.pydata.org/pandas-docs/stable/user_guide/indexing.html#returning-a-view-versus-a-copy\n",
      "  dffcleaned['CustomerID'] = dffcleaned['CustomerID'].astype(str).str.replace('.0', '', regex=False)\n"
     ]
    }
   ],
   "source": [
    "dffcleaned['CustomerID'] = dffcleaned['CustomerID'].astype(str).str.replace('.0', '', regex=False) "
   ]
  },
  {
   "cell_type": "markdown",
   "id": "3716b808-517a-41a3-b50d-ca529c9127be",
   "metadata": {},
   "source": [
    "###   DATA CLEANED!"
   ]
  },
  {
   "cell_type": "code",
   "execution_count": 78,
   "id": "f1a8050e-8f9b-44a7-80ae-bf04ed9c92fd",
   "metadata": {},
   "outputs": [
    {
     "data": {
      "text/html": [
       "<div>\n",
       "<style scoped>\n",
       "    .dataframe tbody tr th:only-of-type {\n",
       "        vertical-align: middle;\n",
       "    }\n",
       "\n",
       "    .dataframe tbody tr th {\n",
       "        vertical-align: top;\n",
       "    }\n",
       "\n",
       "    .dataframe thead th {\n",
       "        text-align: right;\n",
       "    }\n",
       "</style>\n",
       "<table border=\"1\" class=\"dataframe\">\n",
       "  <thead>\n",
       "    <tr style=\"text-align: right;\">\n",
       "      <th></th>\n",
       "      <th>InvoiceNo</th>\n",
       "      <th>StockCode</th>\n",
       "      <th>Description</th>\n",
       "      <th>Quantity</th>\n",
       "      <th>InvoiceDate</th>\n",
       "      <th>UnitPrice</th>\n",
       "      <th>CustomerID</th>\n",
       "      <th>Country</th>\n",
       "      <th>OrderType</th>\n",
       "      <th>Date</th>\n",
       "      <th>Time</th>\n",
       "      <th>Revenue</th>\n",
       "    </tr>\n",
       "  </thead>\n",
       "  <tbody>\n",
       "    <tr>\n",
       "      <th>0</th>\n",
       "      <td>536365</td>\n",
       "      <td>85123A</td>\n",
       "      <td>WHITE HANGING HEART T-LIGHT HOLDER</td>\n",
       "      <td>6</td>\n",
       "      <td>2010-12-01 08:26:00</td>\n",
       "      <td>2.55</td>\n",
       "      <td>17850</td>\n",
       "      <td>United Kingdom</td>\n",
       "      <td>Regular</td>\n",
       "      <td>2010-12-01</td>\n",
       "      <td>08:26:00</td>\n",
       "      <td>15.30</td>\n",
       "    </tr>\n",
       "    <tr>\n",
       "      <th>1</th>\n",
       "      <td>536365</td>\n",
       "      <td>71053</td>\n",
       "      <td>WHITE METAL LANTERN</td>\n",
       "      <td>6</td>\n",
       "      <td>2010-12-01 08:26:00</td>\n",
       "      <td>3.39</td>\n",
       "      <td>17850</td>\n",
       "      <td>United Kingdom</td>\n",
       "      <td>Regular</td>\n",
       "      <td>2010-12-01</td>\n",
       "      <td>08:26:00</td>\n",
       "      <td>20.34</td>\n",
       "    </tr>\n",
       "  </tbody>\n",
       "</table>\n",
       "</div>"
      ],
      "text/plain": [
       "  InvoiceNo StockCode  \\\n",
       "0    536365    85123A   \n",
       "1    536365     71053   \n",
       "\n",
       "                          Description  Quantity  \\\n",
       "0  WHITE HANGING HEART T-LIGHT HOLDER         6   \n",
       "1                 WHITE METAL LANTERN         6   \n",
       "\n",
       "          InvoiceDate  UnitPrice CustomerID  \\\n",
       "0 2010-12-01 08:26:00       2.55      17850   \n",
       "1 2010-12-01 08:26:00       3.39      17850   \n",
       "\n",
       "          Country OrderType       Date  \\\n",
       "0  United Kingdom   Regular 2010-12-01   \n",
       "1  United Kingdom   Regular 2010-12-01   \n",
       "\n",
       "       Time  Revenue  \n",
       "0  08:26:00    15.30  \n",
       "1  08:26:00    20.34  "
      ]
     },
     "execution_count": 78,
     "metadata": {},
     "output_type": "execute_result"
    }
   ],
   "source": [
    "dffcleaned.head(2)"
   ]
  },
  {
   "cell_type": "code",
   "execution_count": 79,
   "id": "86b4e85b-32a6-484a-8a28-2c0786a3dec6",
   "metadata": {},
   "outputs": [
    {
     "data": {
      "text/html": [
       "<div>\n",
       "<style scoped>\n",
       "    .dataframe tbody tr th:only-of-type {\n",
       "        vertical-align: middle;\n",
       "    }\n",
       "\n",
       "    .dataframe tbody tr th {\n",
       "        vertical-align: top;\n",
       "    }\n",
       "\n",
       "    .dataframe thead th {\n",
       "        text-align: right;\n",
       "    }\n",
       "</style>\n",
       "<table border=\"1\" class=\"dataframe\">\n",
       "  <thead>\n",
       "    <tr style=\"text-align: right;\">\n",
       "      <th></th>\n",
       "      <th>Quantity</th>\n",
       "      <th>InvoiceDate</th>\n",
       "      <th>UnitPrice</th>\n",
       "      <th>Date</th>\n",
       "      <th>Revenue</th>\n",
       "    </tr>\n",
       "  </thead>\n",
       "  <tbody>\n",
       "    <tr>\n",
       "      <th>count</th>\n",
       "      <td>531993.000000</td>\n",
       "      <td>531993</td>\n",
       "      <td>531993.000000</td>\n",
       "      <td>531993</td>\n",
       "      <td>531993.000000</td>\n",
       "    </tr>\n",
       "    <tr>\n",
       "      <th>mean</th>\n",
       "      <td>10.021884</td>\n",
       "      <td>2011-07-04 12:11:18.609154816</td>\n",
       "      <td>3.316449</td>\n",
       "      <td>2011-07-03 22:36:42.213938944</td>\n",
       "      <td>18.368314</td>\n",
       "    </tr>\n",
       "    <tr>\n",
       "      <th>min</th>\n",
       "      <td>-80995.000000</td>\n",
       "      <td>2010-12-01 08:26:00</td>\n",
       "      <td>0.000000</td>\n",
       "      <td>2010-12-01 00:00:00</td>\n",
       "      <td>-168469.600000</td>\n",
       "    </tr>\n",
       "    <tr>\n",
       "      <th>25%</th>\n",
       "      <td>1.000000</td>\n",
       "      <td>2011-03-28 10:52:00</td>\n",
       "      <td>1.250000</td>\n",
       "      <td>2011-03-28 00:00:00</td>\n",
       "      <td>3.750000</td>\n",
       "    </tr>\n",
       "    <tr>\n",
       "      <th>50%</th>\n",
       "      <td>3.000000</td>\n",
       "      <td>2011-07-19 17:02:00</td>\n",
       "      <td>2.080000</td>\n",
       "      <td>2011-07-19 00:00:00</td>\n",
       "      <td>9.900000</td>\n",
       "    </tr>\n",
       "    <tr>\n",
       "      <th>75%</th>\n",
       "      <td>10.000000</td>\n",
       "      <td>2011-10-19 09:58:00</td>\n",
       "      <td>4.130000</td>\n",
       "      <td>2011-10-19 00:00:00</td>\n",
       "      <td>17.400000</td>\n",
       "    </tr>\n",
       "    <tr>\n",
       "      <th>max</th>\n",
       "      <td>80995.000000</td>\n",
       "      <td>2011-12-09 12:50:00</td>\n",
       "      <td>1050.150000</td>\n",
       "      <td>2011-12-09 00:00:00</td>\n",
       "      <td>168469.600000</td>\n",
       "    </tr>\n",
       "    <tr>\n",
       "      <th>std</th>\n",
       "      <td>217.706968</td>\n",
       "      <td>NaN</td>\n",
       "      <td>5.361642</td>\n",
       "      <td>NaN</td>\n",
       "      <td>369.494411</td>\n",
       "    </tr>\n",
       "  </tbody>\n",
       "</table>\n",
       "</div>"
      ],
      "text/plain": [
       "            Quantity  \\\n",
       "count  531993.000000   \n",
       "mean       10.021884   \n",
       "min    -80995.000000   \n",
       "25%         1.000000   \n",
       "50%         3.000000   \n",
       "75%        10.000000   \n",
       "max     80995.000000   \n",
       "std       217.706968   \n",
       "\n",
       "                         InvoiceDate  \\\n",
       "count                         531993   \n",
       "mean   2011-07-04 12:11:18.609154816   \n",
       "min              2010-12-01 08:26:00   \n",
       "25%              2011-03-28 10:52:00   \n",
       "50%              2011-07-19 17:02:00   \n",
       "75%              2011-10-19 09:58:00   \n",
       "max              2011-12-09 12:50:00   \n",
       "std                              NaN   \n",
       "\n",
       "           UnitPrice  \\\n",
       "count  531993.000000   \n",
       "mean        3.316449   \n",
       "min         0.000000   \n",
       "25%         1.250000   \n",
       "50%         2.080000   \n",
       "75%         4.130000   \n",
       "max      1050.150000   \n",
       "std         5.361642   \n",
       "\n",
       "                                Date  \\\n",
       "count                         531993   \n",
       "mean   2011-07-03 22:36:42.213938944   \n",
       "min              2010-12-01 00:00:00   \n",
       "25%              2011-03-28 00:00:00   \n",
       "50%              2011-07-19 00:00:00   \n",
       "75%              2011-10-19 00:00:00   \n",
       "max              2011-12-09 00:00:00   \n",
       "std                              NaN   \n",
       "\n",
       "             Revenue  \n",
       "count  531993.000000  \n",
       "mean       18.368314  \n",
       "min   -168469.600000  \n",
       "25%         3.750000  \n",
       "50%         9.900000  \n",
       "75%        17.400000  \n",
       "max    168469.600000  \n",
       "std       369.494411  "
      ]
     },
     "execution_count": 79,
     "metadata": {},
     "output_type": "execute_result"
    }
   ],
   "source": [
    "dffcleaned.describe()"
   ]
  },
  {
   "cell_type": "markdown",
   "id": "31193ab5-421c-4dd0-8be2-8d2f2b5ac016",
   "metadata": {},
   "source": [
    "### SEPARATING DATA INTO POSITIVE AND NEGATIVE(CANCELLED)"
   ]
  },
  {
   "cell_type": "code",
   "execution_count": 80,
   "id": "561a9677-72fd-41ff-afd7-6472451f6760",
   "metadata": {},
   "outputs": [],
   "source": [
    "dffcleaned = dffcleaned[(dffcleaned['Quantity']>0) & (dffcleaned['UnitPrice']>0)]"
   ]
  },
  {
   "cell_type": "code",
   "execution_count": 81,
   "id": "cb3e42f9-d673-4bad-85fc-ef76aaa4944f",
   "metadata": {},
   "outputs": [
    {
     "data": {
      "text/html": [
       "<div>\n",
       "<style scoped>\n",
       "    .dataframe tbody tr th:only-of-type {\n",
       "        vertical-align: middle;\n",
       "    }\n",
       "\n",
       "    .dataframe tbody tr th {\n",
       "        vertical-align: top;\n",
       "    }\n",
       "\n",
       "    .dataframe thead th {\n",
       "        text-align: right;\n",
       "    }\n",
       "</style>\n",
       "<table border=\"1\" class=\"dataframe\">\n",
       "  <thead>\n",
       "    <tr style=\"text-align: right;\">\n",
       "      <th></th>\n",
       "      <th>InvoiceNo</th>\n",
       "      <th>StockCode</th>\n",
       "      <th>Description</th>\n",
       "      <th>Quantity</th>\n",
       "      <th>InvoiceDate</th>\n",
       "      <th>UnitPrice</th>\n",
       "      <th>CustomerID</th>\n",
       "      <th>Country</th>\n",
       "      <th>OrderType</th>\n",
       "      <th>Date</th>\n",
       "      <th>Time</th>\n",
       "      <th>Revenue</th>\n",
       "    </tr>\n",
       "  </thead>\n",
       "  <tbody>\n",
       "  </tbody>\n",
       "</table>\n",
       "</div>"
      ],
      "text/plain": [
       "Empty DataFrame\n",
       "Columns: [InvoiceNo, StockCode, Description, Quantity, InvoiceDate, UnitPrice, CustomerID, Country, OrderType, Date, Time, Revenue]\n",
       "Index: []"
      ]
     },
     "execution_count": 81,
     "metadata": {},
     "output_type": "execute_result"
    }
   ],
   "source": [
    "dffcleaned[dffcleaned['Description']=='?']"
   ]
  },
  {
   "cell_type": "code",
   "execution_count": 82,
   "id": "74a62847-4d6a-4618-8660-3aaff1df59f2",
   "metadata": {},
   "outputs": [
    {
     "data": {
      "text/plain": [
       "InvoiceNo              object\n",
       "StockCode              object\n",
       "Description            object\n",
       "Quantity                int64\n",
       "InvoiceDate    datetime64[ns]\n",
       "UnitPrice             float64\n",
       "CustomerID             object\n",
       "Country                object\n",
       "OrderType              object\n",
       "Date           datetime64[ns]\n",
       "Time                   object\n",
       "Revenue               float64\n",
       "dtype: object"
      ]
     },
     "execution_count": 82,
     "metadata": {},
     "output_type": "execute_result"
    }
   ],
   "source": [
    "dffcleaned.dtypes"
   ]
  },
  {
   "cell_type": "code",
   "execution_count": 83,
   "id": "98201fbf-0a7f-4e49-a9a5-ec376299cc8f",
   "metadata": {},
   "outputs": [
    {
     "data": {
      "text/plain": [
       "array(['85123A', '71053', '84406B', ..., '90214U', '47591b', '23843'],\n",
       "      dtype=object)"
      ]
     },
     "execution_count": 83,
     "metadata": {},
     "output_type": "execute_result"
    }
   ],
   "source": [
    "dffcleaned['StockCode'].unique()"
   ]
  },
  {
   "cell_type": "code",
   "execution_count": null,
   "id": "8c71acae-2bb5-43f0-877d-ec877553ef10",
   "metadata": {},
   "outputs": [],
   "source": []
  },
  {
   "cell_type": "code",
   "execution_count": 84,
   "id": "07234577-e131-4634-8ee7-4b6d6fd37574",
   "metadata": {},
   "outputs": [],
   "source": [
    "dffcancelled = dffcleaned[dffcleaned['InvoiceNo'].str.startswith('C')]"
   ]
  },
  {
   "cell_type": "code",
   "execution_count": 85,
   "id": "11dbefd2-8526-4b95-9628-f9abec6e1f2b",
   "metadata": {},
   "outputs": [
    {
     "data": {
      "text/html": [
       "<div>\n",
       "<style scoped>\n",
       "    .dataframe tbody tr th:only-of-type {\n",
       "        vertical-align: middle;\n",
       "    }\n",
       "\n",
       "    .dataframe tbody tr th {\n",
       "        vertical-align: top;\n",
       "    }\n",
       "\n",
       "    .dataframe thead th {\n",
       "        text-align: right;\n",
       "    }\n",
       "</style>\n",
       "<table border=\"1\" class=\"dataframe\">\n",
       "  <thead>\n",
       "    <tr style=\"text-align: right;\">\n",
       "      <th></th>\n",
       "      <th>InvoiceNo</th>\n",
       "      <th>StockCode</th>\n",
       "      <th>Description</th>\n",
       "      <th>Quantity</th>\n",
       "      <th>InvoiceDate</th>\n",
       "      <th>UnitPrice</th>\n",
       "      <th>CustomerID</th>\n",
       "      <th>Country</th>\n",
       "      <th>OrderType</th>\n",
       "      <th>Date</th>\n",
       "      <th>Time</th>\n",
       "      <th>Revenue</th>\n",
       "    </tr>\n",
       "  </thead>\n",
       "  <tbody>\n",
       "  </tbody>\n",
       "</table>\n",
       "</div>"
      ],
      "text/plain": [
       "Empty DataFrame\n",
       "Columns: [InvoiceNo, StockCode, Description, Quantity, InvoiceDate, UnitPrice, CustomerID, Country, OrderType, Date, Time, Revenue]\n",
       "Index: []"
      ]
     },
     "execution_count": 85,
     "metadata": {},
     "output_type": "execute_result"
    }
   ],
   "source": [
    "dffcancelled.head()"
   ]
  },
  {
   "cell_type": "code",
   "execution_count": 86,
   "id": "64a8827e-4f82-446e-9a7a-1817f129d846",
   "metadata": {},
   "outputs": [
    {
     "data": {
      "text/plain": [
       "array([], dtype=object)"
      ]
     },
     "execution_count": 86,
     "metadata": {},
     "output_type": "execute_result"
    }
   ],
   "source": [
    "dffcancelled['InvoiceNo'].unique()"
   ]
  },
  {
   "cell_type": "code",
   "execution_count": null,
   "id": "45870c44-1c53-4a98-b0e2-5123c4723735",
   "metadata": {},
   "outputs": [],
   "source": []
  },
  {
   "cell_type": "code",
   "execution_count": 88,
   "id": "f3be4e6f-8143-42ab-8f76-a0c307ff1a7c",
   "metadata": {},
   "outputs": [],
   "source": [
    "dffcleaned1 = dffcleaned.copy()"
   ]
  },
  {
   "cell_type": "code",
   "execution_count": 89,
   "id": "8859b323-89d8-4219-9395-f11bff0212d3",
   "metadata": {},
   "outputs": [
    {
     "data": {
      "text/plain": [
       "InvoiceNo              object\n",
       "StockCode              object\n",
       "Description            object\n",
       "Quantity                int64\n",
       "InvoiceDate    datetime64[ns]\n",
       "UnitPrice             float64\n",
       "CustomerID             object\n",
       "Country                object\n",
       "OrderType              object\n",
       "Date           datetime64[ns]\n",
       "Time                   object\n",
       "Revenue               float64\n",
       "dtype: object"
      ]
     },
     "execution_count": 89,
     "metadata": {},
     "output_type": "execute_result"
    }
   ],
   "source": [
    "dffcleaned1.dtypes"
   ]
  },
  {
   "cell_type": "code",
   "execution_count": 90,
   "id": "bce49db1-7871-465d-a4f1-ee26c4d25f45",
   "metadata": {},
   "outputs": [],
   "source": [
    "dffcleaned1['BaseInvoiceNo'] = dffcleaned1['InvoiceNo'].str.replace('C', '' ,regex=True)"
   ]
  },
  {
   "cell_type": "code",
   "execution_count": 91,
   "id": "9db3ef3f-b09b-4f33-9b3a-c3af3e9b9e41",
   "metadata": {},
   "outputs": [],
   "source": [
    "cancelledorders = dffcleaned1[dffcleaned1['InvoiceNo'].str.startswith('C')]"
   ]
  },
  {
   "cell_type": "code",
   "execution_count": 92,
   "id": "078287f2-1614-42ef-9044-f47f12053566",
   "metadata": {},
   "outputs": [
    {
     "data": {
      "text/html": [
       "<div>\n",
       "<style scoped>\n",
       "    .dataframe tbody tr th:only-of-type {\n",
       "        vertical-align: middle;\n",
       "    }\n",
       "\n",
       "    .dataframe tbody tr th {\n",
       "        vertical-align: top;\n",
       "    }\n",
       "\n",
       "    .dataframe thead th {\n",
       "        text-align: right;\n",
       "    }\n",
       "</style>\n",
       "<table border=\"1\" class=\"dataframe\">\n",
       "  <thead>\n",
       "    <tr style=\"text-align: right;\">\n",
       "      <th></th>\n",
       "      <th>InvoiceNo</th>\n",
       "      <th>StockCode</th>\n",
       "      <th>Description</th>\n",
       "      <th>Quantity</th>\n",
       "      <th>InvoiceDate</th>\n",
       "      <th>UnitPrice</th>\n",
       "      <th>CustomerID</th>\n",
       "      <th>Country</th>\n",
       "      <th>OrderType</th>\n",
       "      <th>Date</th>\n",
       "      <th>Time</th>\n",
       "      <th>Revenue</th>\n",
       "      <th>BaseInvoiceNo</th>\n",
       "    </tr>\n",
       "  </thead>\n",
       "  <tbody>\n",
       "  </tbody>\n",
       "</table>\n",
       "</div>"
      ],
      "text/plain": [
       "Empty DataFrame\n",
       "Columns: [InvoiceNo, StockCode, Description, Quantity, InvoiceDate, UnitPrice, CustomerID, Country, OrderType, Date, Time, Revenue, BaseInvoiceNo]\n",
       "Index: []"
      ]
     },
     "execution_count": 92,
     "metadata": {},
     "output_type": "execute_result"
    }
   ],
   "source": [
    "cancelledorders.head()"
   ]
  },
  {
   "cell_type": "code",
   "execution_count": 93,
   "id": "d4d2a376-4733-4035-a3c3-d881ee254bb0",
   "metadata": {},
   "outputs": [],
   "source": [
    "regularorders = dffcleaned1[dffcleaned1['InvoiceNo'].isin(cancelledorders['BaseInvoiceNo'])]"
   ]
  },
  {
   "cell_type": "code",
   "execution_count": 94,
   "id": "74ff10a4-731f-4f09-a7a6-309c3cf6aad9",
   "metadata": {},
   "outputs": [],
   "source": [
    "dffcleaned1 = dffcleaned1[~dffcleaned1['BaseInvoiceNo'].isin(cancelledorders['BaseInvoiceNo'])]"
   ]
  },
  {
   "cell_type": "code",
   "execution_count": 95,
   "id": "17308b84-59fe-451c-879d-3ff924b382a2",
   "metadata": {},
   "outputs": [],
   "source": [
    "dffcleaned1.drop(columns=['BaseInvoiceNo'], inplace=True)"
   ]
  },
  {
   "cell_type": "code",
   "execution_count": 96,
   "id": "9497cbff-0074-4d80-8f99-d67369663bf7",
   "metadata": {},
   "outputs": [
    {
     "data": {
      "text/html": [
       "<div>\n",
       "<style scoped>\n",
       "    .dataframe tbody tr th:only-of-type {\n",
       "        vertical-align: middle;\n",
       "    }\n",
       "\n",
       "    .dataframe tbody tr th {\n",
       "        vertical-align: top;\n",
       "    }\n",
       "\n",
       "    .dataframe thead th {\n",
       "        text-align: right;\n",
       "    }\n",
       "</style>\n",
       "<table border=\"1\" class=\"dataframe\">\n",
       "  <thead>\n",
       "    <tr style=\"text-align: right;\">\n",
       "      <th></th>\n",
       "      <th>InvoiceNo</th>\n",
       "      <th>StockCode</th>\n",
       "      <th>Description</th>\n",
       "      <th>Quantity</th>\n",
       "      <th>InvoiceDate</th>\n",
       "      <th>UnitPrice</th>\n",
       "      <th>CustomerID</th>\n",
       "      <th>Country</th>\n",
       "      <th>OrderType</th>\n",
       "      <th>Date</th>\n",
       "      <th>Time</th>\n",
       "      <th>Revenue</th>\n",
       "    </tr>\n",
       "  </thead>\n",
       "  <tbody>\n",
       "    <tr>\n",
       "      <th>0</th>\n",
       "      <td>536365</td>\n",
       "      <td>85123A</td>\n",
       "      <td>WHITE HANGING HEART T-LIGHT HOLDER</td>\n",
       "      <td>6</td>\n",
       "      <td>2010-12-01 08:26:00</td>\n",
       "      <td>2.55</td>\n",
       "      <td>17850</td>\n",
       "      <td>United Kingdom</td>\n",
       "      <td>Regular</td>\n",
       "      <td>2010-12-01</td>\n",
       "      <td>08:26:00</td>\n",
       "      <td>15.30</td>\n",
       "    </tr>\n",
       "    <tr>\n",
       "      <th>1</th>\n",
       "      <td>536365</td>\n",
       "      <td>71053</td>\n",
       "      <td>WHITE METAL LANTERN</td>\n",
       "      <td>6</td>\n",
       "      <td>2010-12-01 08:26:00</td>\n",
       "      <td>3.39</td>\n",
       "      <td>17850</td>\n",
       "      <td>United Kingdom</td>\n",
       "      <td>Regular</td>\n",
       "      <td>2010-12-01</td>\n",
       "      <td>08:26:00</td>\n",
       "      <td>20.34</td>\n",
       "    </tr>\n",
       "    <tr>\n",
       "      <th>2</th>\n",
       "      <td>536365</td>\n",
       "      <td>84406B</td>\n",
       "      <td>CREAM CUPID HEARTS COAT HANGER</td>\n",
       "      <td>8</td>\n",
       "      <td>2010-12-01 08:26:00</td>\n",
       "      <td>2.75</td>\n",
       "      <td>17850</td>\n",
       "      <td>United Kingdom</td>\n",
       "      <td>Regular</td>\n",
       "      <td>2010-12-01</td>\n",
       "      <td>08:26:00</td>\n",
       "      <td>22.00</td>\n",
       "    </tr>\n",
       "    <tr>\n",
       "      <th>3</th>\n",
       "      <td>536365</td>\n",
       "      <td>84029G</td>\n",
       "      <td>KNITTED UNION FLAG HOT WATER BOTTLE</td>\n",
       "      <td>6</td>\n",
       "      <td>2010-12-01 08:26:00</td>\n",
       "      <td>3.39</td>\n",
       "      <td>17850</td>\n",
       "      <td>United Kingdom</td>\n",
       "      <td>Regular</td>\n",
       "      <td>2010-12-01</td>\n",
       "      <td>08:26:00</td>\n",
       "      <td>20.34</td>\n",
       "    </tr>\n",
       "    <tr>\n",
       "      <th>4</th>\n",
       "      <td>536365</td>\n",
       "      <td>84029E</td>\n",
       "      <td>RED WOOLLY HOTTIE WHITE HEART.</td>\n",
       "      <td>6</td>\n",
       "      <td>2010-12-01 08:26:00</td>\n",
       "      <td>3.39</td>\n",
       "      <td>17850</td>\n",
       "      <td>United Kingdom</td>\n",
       "      <td>Regular</td>\n",
       "      <td>2010-12-01</td>\n",
       "      <td>08:26:00</td>\n",
       "      <td>20.34</td>\n",
       "    </tr>\n",
       "  </tbody>\n",
       "</table>\n",
       "</div>"
      ],
      "text/plain": [
       "  InvoiceNo StockCode  \\\n",
       "0    536365    85123A   \n",
       "1    536365     71053   \n",
       "2    536365    84406B   \n",
       "3    536365    84029G   \n",
       "4    536365    84029E   \n",
       "\n",
       "                           Description  \\\n",
       "0   WHITE HANGING HEART T-LIGHT HOLDER   \n",
       "1                  WHITE METAL LANTERN   \n",
       "2       CREAM CUPID HEARTS COAT HANGER   \n",
       "3  KNITTED UNION FLAG HOT WATER BOTTLE   \n",
       "4       RED WOOLLY HOTTIE WHITE HEART.   \n",
       "\n",
       "   Quantity         InvoiceDate  UnitPrice  \\\n",
       "0         6 2010-12-01 08:26:00       2.55   \n",
       "1         6 2010-12-01 08:26:00       3.39   \n",
       "2         8 2010-12-01 08:26:00       2.75   \n",
       "3         6 2010-12-01 08:26:00       3.39   \n",
       "4         6 2010-12-01 08:26:00       3.39   \n",
       "\n",
       "  CustomerID         Country OrderType  \\\n",
       "0      17850  United Kingdom   Regular   \n",
       "1      17850  United Kingdom   Regular   \n",
       "2      17850  United Kingdom   Regular   \n",
       "3      17850  United Kingdom   Regular   \n",
       "4      17850  United Kingdom   Regular   \n",
       "\n",
       "        Date      Time  Revenue  \n",
       "0 2010-12-01  08:26:00    15.30  \n",
       "1 2010-12-01  08:26:00    20.34  \n",
       "2 2010-12-01  08:26:00    22.00  \n",
       "3 2010-12-01  08:26:00    20.34  \n",
       "4 2010-12-01  08:26:00    20.34  "
      ]
     },
     "execution_count": 96,
     "metadata": {},
     "output_type": "execute_result"
    }
   ],
   "source": [
    "dffcleaned1.head()"
   ]
  },
  {
   "cell_type": "code",
   "execution_count": 97,
   "id": "545749d2-af44-4ee7-8601-c8ce6de78b76",
   "metadata": {},
   "outputs": [
    {
     "data": {
      "text/plain": [
       "(522724, 12)"
      ]
     },
     "execution_count": 97,
     "metadata": {},
     "output_type": "execute_result"
    }
   ],
   "source": [
    "dffcleaned1.shape"
   ]
  },
  {
   "cell_type": "code",
   "execution_count": 98,
   "id": "40522b05-bb6c-4fb9-9f6d-876af87859fe",
   "metadata": {},
   "outputs": [
    {
     "data": {
      "text/plain": [
       "(522724, 12)"
      ]
     },
     "execution_count": 98,
     "metadata": {},
     "output_type": "execute_result"
    }
   ],
   "source": [
    "dffcleaned.shape"
   ]
  },
  {
   "cell_type": "code",
   "execution_count": 99,
   "id": "ea45fb70-226b-4c1f-a0a9-5019472b2a76",
   "metadata": {},
   "outputs": [],
   "source": [
    "#now checking"
   ]
  },
  {
   "cell_type": "code",
   "execution_count": 100,
   "id": "d0964e24-94e9-4fbc-a915-3d90d7f2d732",
   "metadata": {},
   "outputs": [
    {
     "data": {
      "text/plain": [
       "(0, 12)"
      ]
     },
     "execution_count": 100,
     "metadata": {},
     "output_type": "execute_result"
    }
   ],
   "source": [
    "dffcleaned1[dffcleaned1['InvoiceNo'].str.startswith('C')].shape"
   ]
  },
  {
   "cell_type": "code",
   "execution_count": 101,
   "id": "f60ef978-7d82-4ddb-a391-a366d0bf7034",
   "metadata": {},
   "outputs": [
    {
     "data": {
      "text/plain": [
       "((522724, 12), (522724, 12))"
      ]
     },
     "execution_count": 101,
     "metadata": {},
     "output_type": "execute_result"
    }
   ],
   "source": [
    "dffcleaned1.shape, dffcleaned.shape"
   ]
  },
  {
   "cell_type": "code",
   "execution_count": 102,
   "id": "72d1bf19-ba29-41e2-a608-c373a6d192b0",
   "metadata": {},
   "outputs": [
    {
     "data": {
      "text/plain": [
       "Index(['InvoiceNo', 'StockCode', 'Description',\n",
       "       'Quantity', 'InvoiceDate', 'UnitPrice',\n",
       "       'CustomerID', 'Country', 'OrderType',\n",
       "       'Date', 'Time', 'Revenue'],\n",
       "      dtype='object')"
      ]
     },
     "execution_count": 102,
     "metadata": {},
     "output_type": "execute_result"
    }
   ],
   "source": [
    "dffcleaned1.columns"
   ]
  },
  {
   "cell_type": "code",
   "execution_count": 103,
   "id": "dfcf20ef-1375-4152-9874-535081b7f15f",
   "metadata": {},
   "outputs": [],
   "source": [
    "removed = dffcleaned1[~dffcleaned1['InvoiceNo'].isin(dffcleaned['InvoiceNo'])]"
   ]
  },
  {
   "cell_type": "code",
   "execution_count": 104,
   "id": "e2023193-6638-4c0a-98fd-af963f3c48d3",
   "metadata": {},
   "outputs": [
    {
     "data": {
      "text/html": [
       "<div>\n",
       "<style scoped>\n",
       "    .dataframe tbody tr th:only-of-type {\n",
       "        vertical-align: middle;\n",
       "    }\n",
       "\n",
       "    .dataframe tbody tr th {\n",
       "        vertical-align: top;\n",
       "    }\n",
       "\n",
       "    .dataframe thead th {\n",
       "        text-align: right;\n",
       "    }\n",
       "</style>\n",
       "<table border=\"1\" class=\"dataframe\">\n",
       "  <thead>\n",
       "    <tr style=\"text-align: right;\">\n",
       "      <th></th>\n",
       "      <th>InvoiceNo</th>\n",
       "      <th>StockCode</th>\n",
       "      <th>Description</th>\n",
       "      <th>Quantity</th>\n",
       "      <th>InvoiceDate</th>\n",
       "      <th>UnitPrice</th>\n",
       "      <th>CustomerID</th>\n",
       "      <th>Country</th>\n",
       "      <th>OrderType</th>\n",
       "      <th>Date</th>\n",
       "      <th>Time</th>\n",
       "      <th>Revenue</th>\n",
       "    </tr>\n",
       "  </thead>\n",
       "  <tbody>\n",
       "  </tbody>\n",
       "</table>\n",
       "</div>"
      ],
      "text/plain": [
       "Empty DataFrame\n",
       "Columns: [InvoiceNo, StockCode, Description, Quantity, InvoiceDate, UnitPrice, CustomerID, Country, OrderType, Date, Time, Revenue]\n",
       "Index: []"
      ]
     },
     "execution_count": 104,
     "metadata": {},
     "output_type": "execute_result"
    }
   ],
   "source": [
    "removed.head()"
   ]
  },
  {
   "cell_type": "code",
   "execution_count": 105,
   "id": "5e4f9b8e-4e73-4568-b7d4-05abb5489bac",
   "metadata": {},
   "outputs": [
    {
     "data": {
      "text/plain": [
       "(0, 12)"
      ]
     },
     "execution_count": 105,
     "metadata": {},
     "output_type": "execute_result"
    }
   ],
   "source": [
    "removed.shape"
   ]
  },
  {
   "cell_type": "markdown",
   "id": "391af07e-ecd8-4f0b-87da-3febb20909ce",
   "metadata": {},
   "source": [
    "### Saving to csv Files"
   ]
  },
  {
   "cell_type": "code",
   "execution_count": 106,
   "id": "8b522e1f-e8a0-458a-b855-83d50ebf6eb0",
   "metadata": {},
   "outputs": [],
   "source": [
    "dffcleaned1.to_csv(\"dffcleaned1.csv\", index=False)"
   ]
  },
  {
   "cell_type": "code",
   "execution_count": 110,
   "id": "50eedc99-2092-47d5-a284-d7ba01fab210",
   "metadata": {},
   "outputs": [
    {
     "name": "stderr",
     "output_type": "stream",
     "text": [
      "C:\\Users\\91935\\AppData\\Local\\Temp\\ipykernel_5676\\798734075.py:4: SettingWithCopyWarning: \n",
      "A value is trying to be set on a copy of a slice from a DataFrame.\n",
      "Try using .loc[row_indexer,col_indexer] = value instead\n",
      "\n",
      "See the caveats in the documentation: https://pandas.pydata.org/pandas-docs/stable/user_guide/indexing.html#returning-a-view-versus-a-copy\n",
      "  dffnew['CustomerID'] = dffnew['CustomerID'].fillna('Not Found')\n"
     ]
    },
    {
     "data": {
      "text/plain": [
       "InvoiceNo      0\n",
       "StockCode      0\n",
       "Description    0\n",
       "Quantity       0\n",
       "InvoiceDate    0\n",
       "UnitPrice      0\n",
       "CustomerID     0\n",
       "Country        0\n",
       "OrderType      0\n",
       "Date           0\n",
       "Time           0\n",
       "Revenue        0\n",
       "dtype: int64"
      ]
     },
     "execution_count": 110,
     "metadata": {},
     "output_type": "execute_result"
    }
   ],
   "source": [
    "# redoing the cancelled dataframe \n",
    "rows_with_nan_in_both = dff[dff['Description'].isna() & dff['CustomerID'].isna()]\n",
    "dffnew = dff.dropna(subset=['Description', 'CustomerID'], how='all')\n",
    "dffnew['CustomerID'] = dffnew['CustomerID'].fillna('Not Found')\n",
    "dffnew.isnull().sum()"
   ]
  },
  {
   "cell_type": "code",
   "execution_count": 111,
   "id": "353bfa0d-71d4-4359-8ad9-7dae782442e8",
   "metadata": {},
   "outputs": [],
   "source": [
    "Cancelleddata = dffnew[dffnew['InvoiceNo'].str.startswith('C')].copy()"
   ]
  },
  {
   "cell_type": "code",
   "execution_count": 112,
   "id": "5c38ec8a-7ba7-4f73-96a3-e1ac840cef9d",
   "metadata": {},
   "outputs": [
    {
     "data": {
      "text/html": [
       "<div>\n",
       "<style scoped>\n",
       "    .dataframe tbody tr th:only-of-type {\n",
       "        vertical-align: middle;\n",
       "    }\n",
       "\n",
       "    .dataframe tbody tr th {\n",
       "        vertical-align: top;\n",
       "    }\n",
       "\n",
       "    .dataframe thead th {\n",
       "        text-align: right;\n",
       "    }\n",
       "</style>\n",
       "<table border=\"1\" class=\"dataframe\">\n",
       "  <thead>\n",
       "    <tr style=\"text-align: right;\">\n",
       "      <th></th>\n",
       "      <th>InvoiceNo</th>\n",
       "      <th>StockCode</th>\n",
       "      <th>Description</th>\n",
       "      <th>Quantity</th>\n",
       "      <th>InvoiceDate</th>\n",
       "      <th>UnitPrice</th>\n",
       "      <th>CustomerID</th>\n",
       "      <th>Country</th>\n",
       "      <th>OrderType</th>\n",
       "      <th>Date</th>\n",
       "      <th>Time</th>\n",
       "      <th>Revenue</th>\n",
       "    </tr>\n",
       "  </thead>\n",
       "  <tbody>\n",
       "    <tr>\n",
       "      <th>154</th>\n",
       "      <td>C536383</td>\n",
       "      <td>35004C</td>\n",
       "      <td>SET OF 3 COLOURED  FLYING DUCKS</td>\n",
       "      <td>-1</td>\n",
       "      <td>2010-12-01 09:49:00</td>\n",
       "      <td>4.65</td>\n",
       "      <td>15311.0</td>\n",
       "      <td>United Kingdom</td>\n",
       "      <td>Cancelled</td>\n",
       "      <td>2010-12-01</td>\n",
       "      <td>09:49:00</td>\n",
       "      <td>-4.65</td>\n",
       "    </tr>\n",
       "    <tr>\n",
       "      <th>235</th>\n",
       "      <td>C536391</td>\n",
       "      <td>22556</td>\n",
       "      <td>PLASTERS IN TIN CIRCUS PARADE</td>\n",
       "      <td>-12</td>\n",
       "      <td>2010-12-01 10:24:00</td>\n",
       "      <td>1.65</td>\n",
       "      <td>17548.0</td>\n",
       "      <td>United Kingdom</td>\n",
       "      <td>Cancelled</td>\n",
       "      <td>2010-12-01</td>\n",
       "      <td>10:24:00</td>\n",
       "      <td>-19.80</td>\n",
       "    </tr>\n",
       "    <tr>\n",
       "      <th>236</th>\n",
       "      <td>C536391</td>\n",
       "      <td>21984</td>\n",
       "      <td>PACK OF 12 PINK PAISLEY TISSUES</td>\n",
       "      <td>-24</td>\n",
       "      <td>2010-12-01 10:24:00</td>\n",
       "      <td>0.29</td>\n",
       "      <td>17548.0</td>\n",
       "      <td>United Kingdom</td>\n",
       "      <td>Cancelled</td>\n",
       "      <td>2010-12-01</td>\n",
       "      <td>10:24:00</td>\n",
       "      <td>-6.96</td>\n",
       "    </tr>\n",
       "    <tr>\n",
       "      <th>237</th>\n",
       "      <td>C536391</td>\n",
       "      <td>21983</td>\n",
       "      <td>PACK OF 12 BLUE PAISLEY TISSUES</td>\n",
       "      <td>-24</td>\n",
       "      <td>2010-12-01 10:24:00</td>\n",
       "      <td>0.29</td>\n",
       "      <td>17548.0</td>\n",
       "      <td>United Kingdom</td>\n",
       "      <td>Cancelled</td>\n",
       "      <td>2010-12-01</td>\n",
       "      <td>10:24:00</td>\n",
       "      <td>-6.96</td>\n",
       "    </tr>\n",
       "    <tr>\n",
       "      <th>238</th>\n",
       "      <td>C536391</td>\n",
       "      <td>21980</td>\n",
       "      <td>PACK OF 12 RED RETROSPOT TISSUES</td>\n",
       "      <td>-24</td>\n",
       "      <td>2010-12-01 10:24:00</td>\n",
       "      <td>0.29</td>\n",
       "      <td>17548.0</td>\n",
       "      <td>United Kingdom</td>\n",
       "      <td>Cancelled</td>\n",
       "      <td>2010-12-01</td>\n",
       "      <td>10:24:00</td>\n",
       "      <td>-6.96</td>\n",
       "    </tr>\n",
       "  </tbody>\n",
       "</table>\n",
       "</div>"
      ],
      "text/plain": [
       "    InvoiceNo StockCode  \\\n",
       "154   C536383    35004C   \n",
       "235   C536391     22556   \n",
       "236   C536391     21984   \n",
       "237   C536391     21983   \n",
       "238   C536391     21980   \n",
       "\n",
       "                           Description  \\\n",
       "154    SET OF 3 COLOURED  FLYING DUCKS   \n",
       "235     PLASTERS IN TIN CIRCUS PARADE    \n",
       "236   PACK OF 12 PINK PAISLEY TISSUES    \n",
       "237   PACK OF 12 BLUE PAISLEY TISSUES    \n",
       "238  PACK OF 12 RED RETROSPOT TISSUES    \n",
       "\n",
       "     Quantity         InvoiceDate  UnitPrice  \\\n",
       "154        -1 2010-12-01 09:49:00       4.65   \n",
       "235       -12 2010-12-01 10:24:00       1.65   \n",
       "236       -24 2010-12-01 10:24:00       0.29   \n",
       "237       -24 2010-12-01 10:24:00       0.29   \n",
       "238       -24 2010-12-01 10:24:00       0.29   \n",
       "\n",
       "    CustomerID         Country  OrderType  \\\n",
       "154    15311.0  United Kingdom  Cancelled   \n",
       "235    17548.0  United Kingdom  Cancelled   \n",
       "236    17548.0  United Kingdom  Cancelled   \n",
       "237    17548.0  United Kingdom  Cancelled   \n",
       "238    17548.0  United Kingdom  Cancelled   \n",
       "\n",
       "          Date      Time  Revenue  \n",
       "154 2010-12-01  09:49:00    -4.65  \n",
       "235 2010-12-01  10:24:00   -19.80  \n",
       "236 2010-12-01  10:24:00    -6.96  \n",
       "237 2010-12-01  10:24:00    -6.96  \n",
       "238 2010-12-01  10:24:00    -6.96  "
      ]
     },
     "execution_count": 112,
     "metadata": {},
     "output_type": "execute_result"
    }
   ],
   "source": [
    "Cancelleddata.head()"
   ]
  },
  {
   "cell_type": "code",
   "execution_count": 113,
   "id": "17365cd5-7ba0-4908-9d99-e0f97ec46339",
   "metadata": {},
   "outputs": [],
   "source": [
    "Cancelleddata.to_csv(\"Cancelleddata.csv\", index=False)"
   ]
  },
  {
   "cell_type": "code",
   "execution_count": null,
   "id": "5bd4c5ef-e0e2-47f0-a4af-585e316f0e4e",
   "metadata": {},
   "outputs": [],
   "source": []
  },
  {
   "cell_type": "code",
   "execution_count": null,
   "id": "a80ee358-c4c1-4afd-95e4-71125cb10ef7",
   "metadata": {},
   "outputs": [],
   "source": []
  }
 ],
 "metadata": {
  "kernelspec": {
   "display_name": "Python 3 (ipykernel)",
   "language": "python",
   "name": "python3"
  },
  "language_info": {
   "codemirror_mode": {
    "name": "ipython",
    "version": 3
   },
   "file_extension": ".py",
   "mimetype": "text/x-python",
   "name": "python",
   "nbconvert_exporter": "python",
   "pygments_lexer": "ipython3",
   "version": "3.12.4"
  }
 },
 "nbformat": 4,
 "nbformat_minor": 5
}
